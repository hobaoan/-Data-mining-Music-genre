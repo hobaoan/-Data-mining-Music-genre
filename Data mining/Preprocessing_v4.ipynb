{
 "cells": [
  {
   "cell_type": "code",
   "execution_count": 4,
   "id": "21e2d20c",
   "metadata": {
    "execution": {
     "iopub.execute_input": "2022-01-11T18:39:02.873901Z",
     "iopub.status.busy": "2022-01-11T18:39:02.873182Z",
     "iopub.status.idle": "2022-01-11T18:39:04.289078Z",
     "shell.execute_reply": "2022-01-11T18:39:04.289631Z",
     "shell.execute_reply.started": "2022-01-11T18:33:07.934420Z"
    },
    "papermill": {
     "duration": 1.537777,
     "end_time": "2022-01-11T18:39:04.289937",
     "exception": false,
     "start_time": "2022-01-11T18:39:02.752160",
     "status": "completed"
    },
    "tags": []
   },
   "outputs": [],
   "source": [
    "import numpy as np \n",
    "import pandas as pd \n",
    "import matplotlib.pyplot as plt\n",
    "import seaborn as sns\n",
    "%matplotlib inline"
   ]
  },
  {
   "cell_type": "code",
   "execution_count": 5,
   "id": "454d99c6",
   "metadata": {
    "execution": {
     "iopub.execute_input": "2022-01-11T18:39:04.505512Z",
     "iopub.status.busy": "2022-01-11T18:39:04.504858Z",
     "iopub.status.idle": "2022-01-11T18:39:04.840123Z",
     "shell.execute_reply": "2022-01-11T18:39:04.839416Z",
     "shell.execute_reply.started": "2022-01-11T18:33:07.945797Z"
    },
    "papermill": {
     "duration": 0.445488,
     "end_time": "2022-01-11T18:39:04.840286",
     "exception": false,
     "start_time": "2022-01-11T18:39:04.394798",
     "status": "completed"
    },
    "tags": []
   },
   "outputs": [
    {
     "data": {
      "text/html": [
       "<div>\n",
       "<style scoped>\n",
       "    .dataframe tbody tr th:only-of-type {\n",
       "        vertical-align: middle;\n",
       "    }\n",
       "\n",
       "    .dataframe tbody tr th {\n",
       "        vertical-align: top;\n",
       "    }\n",
       "\n",
       "    .dataframe thead th {\n",
       "        text-align: right;\n",
       "    }\n",
       "</style>\n",
       "<table border=\"1\" class=\"dataframe\">\n",
       "  <thead>\n",
       "    <tr style=\"text-align: right;\">\n",
       "      <th></th>\n",
       "      <th>instance_id</th>\n",
       "      <th>artist_name</th>\n",
       "      <th>track_name</th>\n",
       "      <th>popularity</th>\n",
       "      <th>acousticness</th>\n",
       "      <th>danceability</th>\n",
       "      <th>duration_ms</th>\n",
       "      <th>energy</th>\n",
       "      <th>instrumentalness</th>\n",
       "      <th>key</th>\n",
       "      <th>liveness</th>\n",
       "      <th>loudness</th>\n",
       "      <th>mode</th>\n",
       "      <th>speechiness</th>\n",
       "      <th>tempo</th>\n",
       "      <th>obtained_date</th>\n",
       "      <th>valence</th>\n",
       "      <th>music_genre</th>\n",
       "    </tr>\n",
       "  </thead>\n",
       "  <tbody>\n",
       "    <tr>\n",
       "      <th>0</th>\n",
       "      <td>32894.0</td>\n",
       "      <td>Röyksopp</td>\n",
       "      <td>Röyksopp's Night Out</td>\n",
       "      <td>27.0</td>\n",
       "      <td>0.00468</td>\n",
       "      <td>0.652</td>\n",
       "      <td>-1.0</td>\n",
       "      <td>0.941</td>\n",
       "      <td>0.79200</td>\n",
       "      <td>A#</td>\n",
       "      <td>0.115</td>\n",
       "      <td>-5.201</td>\n",
       "      <td>Minor</td>\n",
       "      <td>0.0748</td>\n",
       "      <td>100.889</td>\n",
       "      <td>4-Apr</td>\n",
       "      <td>0.759</td>\n",
       "      <td>Electronic</td>\n",
       "    </tr>\n",
       "    <tr>\n",
       "      <th>1</th>\n",
       "      <td>46652.0</td>\n",
       "      <td>Thievery Corporation</td>\n",
       "      <td>The Shining Path</td>\n",
       "      <td>31.0</td>\n",
       "      <td>0.01270</td>\n",
       "      <td>0.622</td>\n",
       "      <td>218293.0</td>\n",
       "      <td>0.890</td>\n",
       "      <td>0.95000</td>\n",
       "      <td>D</td>\n",
       "      <td>0.124</td>\n",
       "      <td>-7.043</td>\n",
       "      <td>Minor</td>\n",
       "      <td>0.0300</td>\n",
       "      <td>115.00200000000001</td>\n",
       "      <td>4-Apr</td>\n",
       "      <td>0.531</td>\n",
       "      <td>Electronic</td>\n",
       "    </tr>\n",
       "    <tr>\n",
       "      <th>2</th>\n",
       "      <td>30097.0</td>\n",
       "      <td>Dillon Francis</td>\n",
       "      <td>Hurricane</td>\n",
       "      <td>28.0</td>\n",
       "      <td>0.00306</td>\n",
       "      <td>0.620</td>\n",
       "      <td>215613.0</td>\n",
       "      <td>0.755</td>\n",
       "      <td>0.01180</td>\n",
       "      <td>G#</td>\n",
       "      <td>0.534</td>\n",
       "      <td>-4.617</td>\n",
       "      <td>Major</td>\n",
       "      <td>0.0345</td>\n",
       "      <td>127.994</td>\n",
       "      <td>4-Apr</td>\n",
       "      <td>0.333</td>\n",
       "      <td>Electronic</td>\n",
       "    </tr>\n",
       "    <tr>\n",
       "      <th>3</th>\n",
       "      <td>62177.0</td>\n",
       "      <td>Dubloadz</td>\n",
       "      <td>Nitro</td>\n",
       "      <td>34.0</td>\n",
       "      <td>0.02540</td>\n",
       "      <td>0.774</td>\n",
       "      <td>166875.0</td>\n",
       "      <td>0.700</td>\n",
       "      <td>0.00253</td>\n",
       "      <td>C#</td>\n",
       "      <td>0.157</td>\n",
       "      <td>-4.498</td>\n",
       "      <td>Major</td>\n",
       "      <td>0.2390</td>\n",
       "      <td>128.014</td>\n",
       "      <td>4-Apr</td>\n",
       "      <td>0.270</td>\n",
       "      <td>Electronic</td>\n",
       "    </tr>\n",
       "    <tr>\n",
       "      <th>4</th>\n",
       "      <td>24907.0</td>\n",
       "      <td>What So Not</td>\n",
       "      <td>Divide &amp; Conquer</td>\n",
       "      <td>32.0</td>\n",
       "      <td>0.00465</td>\n",
       "      <td>0.638</td>\n",
       "      <td>222369.0</td>\n",
       "      <td>0.587</td>\n",
       "      <td>0.90900</td>\n",
       "      <td>F#</td>\n",
       "      <td>0.157</td>\n",
       "      <td>-6.266</td>\n",
       "      <td>Major</td>\n",
       "      <td>0.0413</td>\n",
       "      <td>145.036</td>\n",
       "      <td>4-Apr</td>\n",
       "      <td>0.323</td>\n",
       "      <td>Electronic</td>\n",
       "    </tr>\n",
       "    <tr>\n",
       "      <th>...</th>\n",
       "      <td>...</td>\n",
       "      <td>...</td>\n",
       "      <td>...</td>\n",
       "      <td>...</td>\n",
       "      <td>...</td>\n",
       "      <td>...</td>\n",
       "      <td>...</td>\n",
       "      <td>...</td>\n",
       "      <td>...</td>\n",
       "      <td>...</td>\n",
       "      <td>...</td>\n",
       "      <td>...</td>\n",
       "      <td>...</td>\n",
       "      <td>...</td>\n",
       "      <td>...</td>\n",
       "      <td>...</td>\n",
       "      <td>...</td>\n",
       "      <td>...</td>\n",
       "    </tr>\n",
       "    <tr>\n",
       "      <th>50000</th>\n",
       "      <td>58878.0</td>\n",
       "      <td>BEXEY</td>\n",
       "      <td>GO GETTA</td>\n",
       "      <td>59.0</td>\n",
       "      <td>0.03340</td>\n",
       "      <td>0.913</td>\n",
       "      <td>-1.0</td>\n",
       "      <td>0.574</td>\n",
       "      <td>0.00000</td>\n",
       "      <td>C#</td>\n",
       "      <td>0.119</td>\n",
       "      <td>-7.022</td>\n",
       "      <td>Major</td>\n",
       "      <td>0.2980</td>\n",
       "      <td>98.02799999999999</td>\n",
       "      <td>4-Apr</td>\n",
       "      <td>0.330</td>\n",
       "      <td>Hip-Hop</td>\n",
       "    </tr>\n",
       "    <tr>\n",
       "      <th>50001</th>\n",
       "      <td>43557.0</td>\n",
       "      <td>Roy Woods</td>\n",
       "      <td>Drama (feat. Drake)</td>\n",
       "      <td>72.0</td>\n",
       "      <td>0.15700</td>\n",
       "      <td>0.709</td>\n",
       "      <td>251860.0</td>\n",
       "      <td>0.362</td>\n",
       "      <td>0.00000</td>\n",
       "      <td>B</td>\n",
       "      <td>0.109</td>\n",
       "      <td>-9.814</td>\n",
       "      <td>Major</td>\n",
       "      <td>0.0550</td>\n",
       "      <td>122.04299999999999</td>\n",
       "      <td>4-Apr</td>\n",
       "      <td>0.113</td>\n",
       "      <td>Hip-Hop</td>\n",
       "    </tr>\n",
       "    <tr>\n",
       "      <th>50002</th>\n",
       "      <td>39767.0</td>\n",
       "      <td>Berner</td>\n",
       "      <td>Lovin' Me (feat. Smiggz)</td>\n",
       "      <td>51.0</td>\n",
       "      <td>0.00597</td>\n",
       "      <td>0.693</td>\n",
       "      <td>189483.0</td>\n",
       "      <td>0.763</td>\n",
       "      <td>0.00000</td>\n",
       "      <td>D</td>\n",
       "      <td>0.143</td>\n",
       "      <td>-5.443</td>\n",
       "      <td>Major</td>\n",
       "      <td>0.1460</td>\n",
       "      <td>131.079</td>\n",
       "      <td>4-Apr</td>\n",
       "      <td>0.395</td>\n",
       "      <td>Hip-Hop</td>\n",
       "    </tr>\n",
       "    <tr>\n",
       "      <th>50003</th>\n",
       "      <td>57944.0</td>\n",
       "      <td>The-Dream</td>\n",
       "      <td>Shawty Is Da Shit</td>\n",
       "      <td>65.0</td>\n",
       "      <td>0.08310</td>\n",
       "      <td>0.782</td>\n",
       "      <td>262773.0</td>\n",
       "      <td>0.472</td>\n",
       "      <td>0.00000</td>\n",
       "      <td>G</td>\n",
       "      <td>0.106</td>\n",
       "      <td>-5.016</td>\n",
       "      <td>Minor</td>\n",
       "      <td>0.0441</td>\n",
       "      <td>75.88600000000001</td>\n",
       "      <td>4-Apr</td>\n",
       "      <td>0.354</td>\n",
       "      <td>Hip-Hop</td>\n",
       "    </tr>\n",
       "    <tr>\n",
       "      <th>50004</th>\n",
       "      <td>63470.0</td>\n",
       "      <td>Naughty By Nature</td>\n",
       "      <td>Hip Hop Hooray</td>\n",
       "      <td>67.0</td>\n",
       "      <td>0.10200</td>\n",
       "      <td>0.862</td>\n",
       "      <td>267267.0</td>\n",
       "      <td>0.642</td>\n",
       "      <td>0.00000</td>\n",
       "      <td>F#</td>\n",
       "      <td>0.272</td>\n",
       "      <td>-13.652</td>\n",
       "      <td>Minor</td>\n",
       "      <td>0.1010</td>\n",
       "      <td>99.20100000000001</td>\n",
       "      <td>4-Apr</td>\n",
       "      <td>0.765</td>\n",
       "      <td>Hip-Hop</td>\n",
       "    </tr>\n",
       "  </tbody>\n",
       "</table>\n",
       "<p>50005 rows × 18 columns</p>\n",
       "</div>"
      ],
      "text/plain": [
       "       instance_id           artist_name                track_name  \\\n",
       "0          32894.0              Röyksopp      Röyksopp's Night Out   \n",
       "1          46652.0  Thievery Corporation          The Shining Path   \n",
       "2          30097.0        Dillon Francis                 Hurricane   \n",
       "3          62177.0              Dubloadz                     Nitro   \n",
       "4          24907.0           What So Not          Divide & Conquer   \n",
       "...            ...                   ...                       ...   \n",
       "50000      58878.0                 BEXEY                  GO GETTA   \n",
       "50001      43557.0             Roy Woods       Drama (feat. Drake)   \n",
       "50002      39767.0                Berner  Lovin' Me (feat. Smiggz)   \n",
       "50003      57944.0             The-Dream         Shawty Is Da Shit   \n",
       "50004      63470.0     Naughty By Nature            Hip Hop Hooray   \n",
       "\n",
       "       popularity  acousticness  danceability  duration_ms  energy  \\\n",
       "0            27.0       0.00468         0.652         -1.0   0.941   \n",
       "1            31.0       0.01270         0.622     218293.0   0.890   \n",
       "2            28.0       0.00306         0.620     215613.0   0.755   \n",
       "3            34.0       0.02540         0.774     166875.0   0.700   \n",
       "4            32.0       0.00465         0.638     222369.0   0.587   \n",
       "...           ...           ...           ...          ...     ...   \n",
       "50000        59.0       0.03340         0.913         -1.0   0.574   \n",
       "50001        72.0       0.15700         0.709     251860.0   0.362   \n",
       "50002        51.0       0.00597         0.693     189483.0   0.763   \n",
       "50003        65.0       0.08310         0.782     262773.0   0.472   \n",
       "50004        67.0       0.10200         0.862     267267.0   0.642   \n",
       "\n",
       "       instrumentalness key  liveness  loudness   mode  speechiness  \\\n",
       "0               0.79200  A#     0.115    -5.201  Minor       0.0748   \n",
       "1               0.95000   D     0.124    -7.043  Minor       0.0300   \n",
       "2               0.01180  G#     0.534    -4.617  Major       0.0345   \n",
       "3               0.00253  C#     0.157    -4.498  Major       0.2390   \n",
       "4               0.90900  F#     0.157    -6.266  Major       0.0413   \n",
       "...                 ...  ..       ...       ...    ...          ...   \n",
       "50000           0.00000  C#     0.119    -7.022  Major       0.2980   \n",
       "50001           0.00000   B     0.109    -9.814  Major       0.0550   \n",
       "50002           0.00000   D     0.143    -5.443  Major       0.1460   \n",
       "50003           0.00000   G     0.106    -5.016  Minor       0.0441   \n",
       "50004           0.00000  F#     0.272   -13.652  Minor       0.1010   \n",
       "\n",
       "                    tempo obtained_date  valence music_genre  \n",
       "0                 100.889         4-Apr    0.759  Electronic  \n",
       "1      115.00200000000001         4-Apr    0.531  Electronic  \n",
       "2                 127.994         4-Apr    0.333  Electronic  \n",
       "3                 128.014         4-Apr    0.270  Electronic  \n",
       "4                 145.036         4-Apr    0.323  Electronic  \n",
       "...                   ...           ...      ...         ...  \n",
       "50000   98.02799999999999         4-Apr    0.330     Hip-Hop  \n",
       "50001  122.04299999999999         4-Apr    0.113     Hip-Hop  \n",
       "50002             131.079         4-Apr    0.395     Hip-Hop  \n",
       "50003   75.88600000000001         4-Apr    0.354     Hip-Hop  \n",
       "50004   99.20100000000001         4-Apr    0.765     Hip-Hop  \n",
       "\n",
       "[50005 rows x 18 columns]"
      ]
     },
     "execution_count": 5,
     "metadata": {},
     "output_type": "execute_result"
    }
   ],
   "source": [
    "# read the data\n",
    "data = pd.read_csv('/Users/baoan/Desktop/music_genre.csv')\n",
    "data"
   ]
  },
  {
   "cell_type": "markdown",
   "id": "52f4c838",
   "metadata": {
    "papermill": {
     "duration": 0.105036,
     "end_time": "2022-01-11T18:39:05.051052",
     "exception": false,
     "start_time": "2022-01-11T18:39:04.946016",
     "status": "completed"
    },
    "tags": []
   },
   "source": [
    "# 1. Data Exploration"
   ]
  },
  {
   "cell_type": "code",
   "execution_count": 6,
   "id": "f07e4743",
   "metadata": {},
   "outputs": [
    {
     "data": {
      "text/plain": [
       "Index(['instance_id', 'artist_name', 'track_name', 'popularity',\n",
       "       'acousticness', 'danceability', 'duration_ms', 'energy',\n",
       "       'instrumentalness', 'key', 'liveness', 'loudness', 'mode',\n",
       "       'speechiness', 'tempo', 'obtained_date', 'valence', 'music_genre'],\n",
       "      dtype='object')"
      ]
     },
     "execution_count": 6,
     "metadata": {},
     "output_type": "execute_result"
    }
   ],
   "source": [
    "data.columns"
   ]
  },
  {
   "cell_type": "code",
   "execution_count": 7,
   "id": "53e9e06c",
   "metadata": {},
   "outputs": [
    {
     "data": {
      "text/plain": [
       "instance_id         float64\n",
       "artist_name          object\n",
       "track_name           object\n",
       "popularity          float64\n",
       "acousticness        float64\n",
       "danceability        float64\n",
       "duration_ms         float64\n",
       "energy              float64\n",
       "instrumentalness    float64\n",
       "key                  object\n",
       "liveness            float64\n",
       "loudness            float64\n",
       "mode                 object\n",
       "speechiness         float64\n",
       "tempo                object\n",
       "obtained_date        object\n",
       "valence             float64\n",
       "music_genre          object\n",
       "dtype: object"
      ]
     },
     "execution_count": 7,
     "metadata": {},
     "output_type": "execute_result"
    }
   ],
   "source": [
    "# Check data type\n",
    "data.dtypes"
   ]
  },
  {
   "cell_type": "code",
   "execution_count": 8,
   "id": "92edaf39",
   "metadata": {
    "execution": {
     "iopub.execute_input": "2022-01-11T18:39:05.271039Z",
     "iopub.status.busy": "2022-01-11T18:39:05.270118Z",
     "iopub.status.idle": "2022-01-11T18:39:05.330485Z",
     "shell.execute_reply": "2022-01-11T18:39:05.330989Z",
     "shell.execute_reply.started": "2022-01-11T18:33:08.178911Z"
    },
    "papermill": {
     "duration": 0.175443,
     "end_time": "2022-01-11T18:39:05.331192",
     "exception": false,
     "start_time": "2022-01-11T18:39:05.155749",
     "status": "completed"
    },
    "tags": []
   },
   "outputs": [
    {
     "name": "stdout",
     "output_type": "stream",
     "text": [
      "<class 'pandas.core.frame.DataFrame'>\n",
      "RangeIndex: 50005 entries, 0 to 50004\n",
      "Data columns (total 18 columns):\n",
      " #   Column            Non-Null Count  Dtype  \n",
      "---  ------            --------------  -----  \n",
      " 0   instance_id       50000 non-null  float64\n",
      " 1   artist_name       50000 non-null  object \n",
      " 2   track_name        50000 non-null  object \n",
      " 3   popularity        50000 non-null  float64\n",
      " 4   acousticness      50000 non-null  float64\n",
      " 5   danceability      50000 non-null  float64\n",
      " 6   duration_ms       50000 non-null  float64\n",
      " 7   energy            50000 non-null  float64\n",
      " 8   instrumentalness  50000 non-null  float64\n",
      " 9   key               50000 non-null  object \n",
      " 10  liveness          50000 non-null  float64\n",
      " 11  loudness          50000 non-null  float64\n",
      " 12  mode              50000 non-null  object \n",
      " 13  speechiness       50000 non-null  float64\n",
      " 14  tempo             50000 non-null  object \n",
      " 15  obtained_date     50000 non-null  object \n",
      " 16  valence           50000 non-null  float64\n",
      " 17  music_genre       50000 non-null  object \n",
      "dtypes: float64(11), object(7)\n",
      "memory usage: 6.9+ MB\n"
     ]
    }
   ],
   "source": [
    "data.info()"
   ]
  },
  {
   "cell_type": "code",
   "execution_count": 9,
   "id": "bc00b70c",
   "metadata": {
    "execution": {
     "iopub.execute_input": "2022-01-11T18:39:05.548500Z",
     "iopub.status.busy": "2022-01-11T18:39:05.547827Z",
     "iopub.status.idle": "2022-01-11T18:39:05.614623Z",
     "shell.execute_reply": "2022-01-11T18:39:05.613990Z",
     "shell.execute_reply.started": "2022-01-11T18:33:08.220603Z"
    },
    "papermill": {
     "duration": 0.177204,
     "end_time": "2022-01-11T18:39:05.614763",
     "exception": false,
     "start_time": "2022-01-11T18:39:05.437559",
     "status": "completed"
    },
    "tags": []
   },
   "outputs": [
    {
     "data": {
      "text/html": [
       "<div>\n",
       "<style scoped>\n",
       "    .dataframe tbody tr th:only-of-type {\n",
       "        vertical-align: middle;\n",
       "    }\n",
       "\n",
       "    .dataframe tbody tr th {\n",
       "        vertical-align: top;\n",
       "    }\n",
       "\n",
       "    .dataframe thead th {\n",
       "        text-align: right;\n",
       "    }\n",
       "</style>\n",
       "<table border=\"1\" class=\"dataframe\">\n",
       "  <thead>\n",
       "    <tr style=\"text-align: right;\">\n",
       "      <th></th>\n",
       "      <th>instance_id</th>\n",
       "      <th>artist_name</th>\n",
       "      <th>track_name</th>\n",
       "      <th>popularity</th>\n",
       "      <th>acousticness</th>\n",
       "      <th>danceability</th>\n",
       "      <th>duration_ms</th>\n",
       "      <th>energy</th>\n",
       "      <th>instrumentalness</th>\n",
       "      <th>key</th>\n",
       "      <th>liveness</th>\n",
       "      <th>loudness</th>\n",
       "      <th>mode</th>\n",
       "      <th>speechiness</th>\n",
       "      <th>tempo</th>\n",
       "      <th>obtained_date</th>\n",
       "      <th>valence</th>\n",
       "      <th>music_genre</th>\n",
       "    </tr>\n",
       "  </thead>\n",
       "  <tbody>\n",
       "    <tr>\n",
       "      <th>10000</th>\n",
       "      <td>NaN</td>\n",
       "      <td>NaN</td>\n",
       "      <td>NaN</td>\n",
       "      <td>NaN</td>\n",
       "      <td>NaN</td>\n",
       "      <td>NaN</td>\n",
       "      <td>NaN</td>\n",
       "      <td>NaN</td>\n",
       "      <td>NaN</td>\n",
       "      <td>NaN</td>\n",
       "      <td>NaN</td>\n",
       "      <td>NaN</td>\n",
       "      <td>NaN</td>\n",
       "      <td>NaN</td>\n",
       "      <td>NaN</td>\n",
       "      <td>NaN</td>\n",
       "      <td>NaN</td>\n",
       "      <td>NaN</td>\n",
       "    </tr>\n",
       "    <tr>\n",
       "      <th>10001</th>\n",
       "      <td>NaN</td>\n",
       "      <td>NaN</td>\n",
       "      <td>NaN</td>\n",
       "      <td>NaN</td>\n",
       "      <td>NaN</td>\n",
       "      <td>NaN</td>\n",
       "      <td>NaN</td>\n",
       "      <td>NaN</td>\n",
       "      <td>NaN</td>\n",
       "      <td>NaN</td>\n",
       "      <td>NaN</td>\n",
       "      <td>NaN</td>\n",
       "      <td>NaN</td>\n",
       "      <td>NaN</td>\n",
       "      <td>NaN</td>\n",
       "      <td>NaN</td>\n",
       "      <td>NaN</td>\n",
       "      <td>NaN</td>\n",
       "    </tr>\n",
       "    <tr>\n",
       "      <th>10002</th>\n",
       "      <td>NaN</td>\n",
       "      <td>NaN</td>\n",
       "      <td>NaN</td>\n",
       "      <td>NaN</td>\n",
       "      <td>NaN</td>\n",
       "      <td>NaN</td>\n",
       "      <td>NaN</td>\n",
       "      <td>NaN</td>\n",
       "      <td>NaN</td>\n",
       "      <td>NaN</td>\n",
       "      <td>NaN</td>\n",
       "      <td>NaN</td>\n",
       "      <td>NaN</td>\n",
       "      <td>NaN</td>\n",
       "      <td>NaN</td>\n",
       "      <td>NaN</td>\n",
       "      <td>NaN</td>\n",
       "      <td>NaN</td>\n",
       "    </tr>\n",
       "    <tr>\n",
       "      <th>10003</th>\n",
       "      <td>NaN</td>\n",
       "      <td>NaN</td>\n",
       "      <td>NaN</td>\n",
       "      <td>NaN</td>\n",
       "      <td>NaN</td>\n",
       "      <td>NaN</td>\n",
       "      <td>NaN</td>\n",
       "      <td>NaN</td>\n",
       "      <td>NaN</td>\n",
       "      <td>NaN</td>\n",
       "      <td>NaN</td>\n",
       "      <td>NaN</td>\n",
       "      <td>NaN</td>\n",
       "      <td>NaN</td>\n",
       "      <td>NaN</td>\n",
       "      <td>NaN</td>\n",
       "      <td>NaN</td>\n",
       "      <td>NaN</td>\n",
       "    </tr>\n",
       "    <tr>\n",
       "      <th>10004</th>\n",
       "      <td>NaN</td>\n",
       "      <td>NaN</td>\n",
       "      <td>NaN</td>\n",
       "      <td>NaN</td>\n",
       "      <td>NaN</td>\n",
       "      <td>NaN</td>\n",
       "      <td>NaN</td>\n",
       "      <td>NaN</td>\n",
       "      <td>NaN</td>\n",
       "      <td>NaN</td>\n",
       "      <td>NaN</td>\n",
       "      <td>NaN</td>\n",
       "      <td>NaN</td>\n",
       "      <td>NaN</td>\n",
       "      <td>NaN</td>\n",
       "      <td>NaN</td>\n",
       "      <td>NaN</td>\n",
       "      <td>NaN</td>\n",
       "    </tr>\n",
       "  </tbody>\n",
       "</table>\n",
       "</div>"
      ],
      "text/plain": [
       "       instance_id artist_name track_name  popularity  acousticness  \\\n",
       "10000          NaN         NaN        NaN         NaN           NaN   \n",
       "10001          NaN         NaN        NaN         NaN           NaN   \n",
       "10002          NaN         NaN        NaN         NaN           NaN   \n",
       "10003          NaN         NaN        NaN         NaN           NaN   \n",
       "10004          NaN         NaN        NaN         NaN           NaN   \n",
       "\n",
       "       danceability  duration_ms  energy  instrumentalness  key  liveness  \\\n",
       "10000           NaN          NaN     NaN               NaN  NaN       NaN   \n",
       "10001           NaN          NaN     NaN               NaN  NaN       NaN   \n",
       "10002           NaN          NaN     NaN               NaN  NaN       NaN   \n",
       "10003           NaN          NaN     NaN               NaN  NaN       NaN   \n",
       "10004           NaN          NaN     NaN               NaN  NaN       NaN   \n",
       "\n",
       "       loudness mode  speechiness tempo obtained_date  valence music_genre  \n",
       "10000       NaN  NaN          NaN   NaN           NaN      NaN         NaN  \n",
       "10001       NaN  NaN          NaN   NaN           NaN      NaN         NaN  \n",
       "10002       NaN  NaN          NaN   NaN           NaN      NaN         NaN  \n",
       "10003       NaN  NaN          NaN   NaN           NaN      NaN         NaN  \n",
       "10004       NaN  NaN          NaN   NaN           NaN      NaN         NaN  "
      ]
     },
     "execution_count": 9,
     "metadata": {},
     "output_type": "execute_result"
    }
   ],
   "source": [
    "# Check the null data\n",
    "data[data.isnull().any(axis=1)]"
   ]
  },
  {
   "cell_type": "markdown",
   "id": "268340e1",
   "metadata": {
    "papermill": {
     "duration": 0.105732,
     "end_time": "2022-01-11T18:39:05.826521",
     "exception": false,
     "start_time": "2022-01-11T18:39:05.720789",
     "status": "completed"
    },
    "tags": []
   },
   "source": [
    "#### There are only 5 rows that contain NaN values. We'll remove them:"
   ]
  },
  {
   "cell_type": "code",
   "execution_count": 10,
   "id": "170323a8",
   "metadata": {
    "execution": {
     "iopub.execute_input": "2022-01-11T18:39:06.045352Z",
     "iopub.status.busy": "2022-01-11T18:39:06.044702Z",
     "iopub.status.idle": "2022-01-11T18:39:06.144150Z",
     "shell.execute_reply": "2022-01-11T18:39:06.143622Z",
     "shell.execute_reply.started": "2022-01-11T18:33:08.265317Z"
    },
    "papermill": {
     "duration": 0.211529,
     "end_time": "2022-01-11T18:39:06.144303",
     "exception": false,
     "start_time": "2022-01-11T18:39:05.932774",
     "status": "completed"
    },
    "tags": []
   },
   "outputs": [
    {
     "name": "stdout",
     "output_type": "stream",
     "text": [
      "<class 'pandas.core.frame.DataFrame'>\n",
      "RangeIndex: 50000 entries, 0 to 49999\n",
      "Data columns (total 18 columns):\n",
      " #   Column            Non-Null Count  Dtype  \n",
      "---  ------            --------------  -----  \n",
      " 0   instance_id       50000 non-null  float64\n",
      " 1   artist_name       50000 non-null  object \n",
      " 2   track_name        50000 non-null  object \n",
      " 3   popularity        50000 non-null  float64\n",
      " 4   acousticness      50000 non-null  float64\n",
      " 5   danceability      50000 non-null  float64\n",
      " 6   duration_ms       50000 non-null  float64\n",
      " 7   energy            50000 non-null  float64\n",
      " 8   instrumentalness  50000 non-null  float64\n",
      " 9   key               50000 non-null  object \n",
      " 10  liveness          50000 non-null  float64\n",
      " 11  loudness          50000 non-null  float64\n",
      " 12  mode              50000 non-null  object \n",
      " 13  speechiness       50000 non-null  float64\n",
      " 14  tempo             50000 non-null  object \n",
      " 15  obtained_date     50000 non-null  object \n",
      " 16  valence           50000 non-null  float64\n",
      " 17  music_genre       50000 non-null  object \n",
      "dtypes: float64(11), object(7)\n",
      "memory usage: 6.9+ MB\n"
     ]
    }
   ],
   "source": [
    "# The drop the rows with null data \n",
    "data.dropna(inplace=True)\n",
    "data.reset_index(drop=True, inplace=True)\n",
    "data.info()"
   ]
  },
  {
   "cell_type": "code",
   "execution_count": 11,
   "id": "f7bb34c9",
   "metadata": {
    "execution": {
     "iopub.execute_input": "2022-01-11T18:39:06.361251Z",
     "iopub.status.busy": "2022-01-11T18:39:06.360603Z",
     "iopub.status.idle": "2022-01-11T18:39:06.383510Z",
     "shell.execute_reply": "2022-01-11T18:39:06.383951Z",
     "shell.execute_reply.started": "2022-01-11T18:33:08.336681Z"
    },
    "papermill": {
     "duration": 0.133098,
     "end_time": "2022-01-11T18:39:06.384135",
     "exception": false,
     "start_time": "2022-01-11T18:39:06.251037",
     "status": "completed"
    },
    "tags": []
   },
   "outputs": [
    {
     "data": {
      "text/html": [
       "<div>\n",
       "<style scoped>\n",
       "    .dataframe tbody tr th:only-of-type {\n",
       "        vertical-align: middle;\n",
       "    }\n",
       "\n",
       "    .dataframe tbody tr th {\n",
       "        vertical-align: top;\n",
       "    }\n",
       "\n",
       "    .dataframe thead th {\n",
       "        text-align: right;\n",
       "    }\n",
       "</style>\n",
       "<table border=\"1\" class=\"dataframe\">\n",
       "  <thead>\n",
       "    <tr style=\"text-align: right;\">\n",
       "      <th></th>\n",
       "      <th>instance_id</th>\n",
       "      <th>artist_name</th>\n",
       "      <th>track_name</th>\n",
       "      <th>popularity</th>\n",
       "      <th>acousticness</th>\n",
       "      <th>danceability</th>\n",
       "      <th>duration_ms</th>\n",
       "      <th>energy</th>\n",
       "      <th>instrumentalness</th>\n",
       "      <th>key</th>\n",
       "      <th>liveness</th>\n",
       "      <th>loudness</th>\n",
       "      <th>mode</th>\n",
       "      <th>speechiness</th>\n",
       "      <th>tempo</th>\n",
       "      <th>obtained_date</th>\n",
       "      <th>valence</th>\n",
       "      <th>music_genre</th>\n",
       "    </tr>\n",
       "  </thead>\n",
       "  <tbody>\n",
       "    <tr>\n",
       "      <th>0</th>\n",
       "      <td>32894.0</td>\n",
       "      <td>Röyksopp</td>\n",
       "      <td>Röyksopp's Night Out</td>\n",
       "      <td>27.0</td>\n",
       "      <td>0.00468</td>\n",
       "      <td>0.652</td>\n",
       "      <td>-1.0</td>\n",
       "      <td>0.941</td>\n",
       "      <td>0.79200</td>\n",
       "      <td>A#</td>\n",
       "      <td>0.115</td>\n",
       "      <td>-5.201</td>\n",
       "      <td>Minor</td>\n",
       "      <td>0.0748</td>\n",
       "      <td>100.889</td>\n",
       "      <td>4-Apr</td>\n",
       "      <td>0.759</td>\n",
       "      <td>Electronic</td>\n",
       "    </tr>\n",
       "    <tr>\n",
       "      <th>1</th>\n",
       "      <td>46652.0</td>\n",
       "      <td>Thievery Corporation</td>\n",
       "      <td>The Shining Path</td>\n",
       "      <td>31.0</td>\n",
       "      <td>0.01270</td>\n",
       "      <td>0.622</td>\n",
       "      <td>218293.0</td>\n",
       "      <td>0.890</td>\n",
       "      <td>0.95000</td>\n",
       "      <td>D</td>\n",
       "      <td>0.124</td>\n",
       "      <td>-7.043</td>\n",
       "      <td>Minor</td>\n",
       "      <td>0.0300</td>\n",
       "      <td>115.00200000000001</td>\n",
       "      <td>4-Apr</td>\n",
       "      <td>0.531</td>\n",
       "      <td>Electronic</td>\n",
       "    </tr>\n",
       "    <tr>\n",
       "      <th>2</th>\n",
       "      <td>30097.0</td>\n",
       "      <td>Dillon Francis</td>\n",
       "      <td>Hurricane</td>\n",
       "      <td>28.0</td>\n",
       "      <td>0.00306</td>\n",
       "      <td>0.620</td>\n",
       "      <td>215613.0</td>\n",
       "      <td>0.755</td>\n",
       "      <td>0.01180</td>\n",
       "      <td>G#</td>\n",
       "      <td>0.534</td>\n",
       "      <td>-4.617</td>\n",
       "      <td>Major</td>\n",
       "      <td>0.0345</td>\n",
       "      <td>127.994</td>\n",
       "      <td>4-Apr</td>\n",
       "      <td>0.333</td>\n",
       "      <td>Electronic</td>\n",
       "    </tr>\n",
       "    <tr>\n",
       "      <th>3</th>\n",
       "      <td>62177.0</td>\n",
       "      <td>Dubloadz</td>\n",
       "      <td>Nitro</td>\n",
       "      <td>34.0</td>\n",
       "      <td>0.02540</td>\n",
       "      <td>0.774</td>\n",
       "      <td>166875.0</td>\n",
       "      <td>0.700</td>\n",
       "      <td>0.00253</td>\n",
       "      <td>C#</td>\n",
       "      <td>0.157</td>\n",
       "      <td>-4.498</td>\n",
       "      <td>Major</td>\n",
       "      <td>0.2390</td>\n",
       "      <td>128.014</td>\n",
       "      <td>4-Apr</td>\n",
       "      <td>0.270</td>\n",
       "      <td>Electronic</td>\n",
       "    </tr>\n",
       "    <tr>\n",
       "      <th>4</th>\n",
       "      <td>24907.0</td>\n",
       "      <td>What So Not</td>\n",
       "      <td>Divide &amp; Conquer</td>\n",
       "      <td>32.0</td>\n",
       "      <td>0.00465</td>\n",
       "      <td>0.638</td>\n",
       "      <td>222369.0</td>\n",
       "      <td>0.587</td>\n",
       "      <td>0.90900</td>\n",
       "      <td>F#</td>\n",
       "      <td>0.157</td>\n",
       "      <td>-6.266</td>\n",
       "      <td>Major</td>\n",
       "      <td>0.0413</td>\n",
       "      <td>145.036</td>\n",
       "      <td>4-Apr</td>\n",
       "      <td>0.323</td>\n",
       "      <td>Electronic</td>\n",
       "    </tr>\n",
       "  </tbody>\n",
       "</table>\n",
       "</div>"
      ],
      "text/plain": [
       "   instance_id           artist_name            track_name  popularity  \\\n",
       "0      32894.0              Röyksopp  Röyksopp's Night Out        27.0   \n",
       "1      46652.0  Thievery Corporation      The Shining Path        31.0   \n",
       "2      30097.0        Dillon Francis             Hurricane        28.0   \n",
       "3      62177.0              Dubloadz                 Nitro        34.0   \n",
       "4      24907.0           What So Not      Divide & Conquer        32.0   \n",
       "\n",
       "   acousticness  danceability  duration_ms  energy  instrumentalness key  \\\n",
       "0       0.00468         0.652         -1.0   0.941           0.79200  A#   \n",
       "1       0.01270         0.622     218293.0   0.890           0.95000   D   \n",
       "2       0.00306         0.620     215613.0   0.755           0.01180  G#   \n",
       "3       0.02540         0.774     166875.0   0.700           0.00253  C#   \n",
       "4       0.00465         0.638     222369.0   0.587           0.90900  F#   \n",
       "\n",
       "   liveness  loudness   mode  speechiness               tempo obtained_date  \\\n",
       "0     0.115    -5.201  Minor       0.0748             100.889         4-Apr   \n",
       "1     0.124    -7.043  Minor       0.0300  115.00200000000001         4-Apr   \n",
       "2     0.534    -4.617  Major       0.0345             127.994         4-Apr   \n",
       "3     0.157    -4.498  Major       0.2390             128.014         4-Apr   \n",
       "4     0.157    -6.266  Major       0.0413             145.036         4-Apr   \n",
       "\n",
       "   valence music_genre  \n",
       "0    0.759  Electronic  \n",
       "1    0.531  Electronic  \n",
       "2    0.333  Electronic  \n",
       "3    0.270  Electronic  \n",
       "4    0.323  Electronic  "
      ]
     },
     "execution_count": 11,
     "metadata": {},
     "output_type": "execute_result"
    }
   ],
   "source": [
    "data.head()"
   ]
  },
  {
   "cell_type": "code",
   "execution_count": 12,
   "id": "4b7bad87",
   "metadata": {
    "execution": {
     "iopub.execute_input": "2022-01-11T18:39:06.608675Z",
     "iopub.status.busy": "2022-01-11T18:39:06.607532Z",
     "iopub.status.idle": "2022-01-11T18:39:06.663378Z",
     "shell.execute_reply": "2022-01-11T18:39:06.663898Z",
     "shell.execute_reply.started": "2022-01-11T18:33:08.363292Z"
    },
    "papermill": {
     "duration": 0.17233,
     "end_time": "2022-01-11T18:39:06.664065",
     "exception": false,
     "start_time": "2022-01-11T18:39:06.491735",
     "status": "completed"
    },
    "tags": []
   },
   "outputs": [
    {
     "data": {
      "text/html": [
       "<div>\n",
       "<style scoped>\n",
       "    .dataframe tbody tr th:only-of-type {\n",
       "        vertical-align: middle;\n",
       "    }\n",
       "\n",
       "    .dataframe tbody tr th {\n",
       "        vertical-align: top;\n",
       "    }\n",
       "\n",
       "    .dataframe thead th {\n",
       "        text-align: right;\n",
       "    }\n",
       "</style>\n",
       "<table border=\"1\" class=\"dataframe\">\n",
       "  <thead>\n",
       "    <tr style=\"text-align: right;\">\n",
       "      <th></th>\n",
       "      <th>count</th>\n",
       "      <th>mean</th>\n",
       "      <th>std</th>\n",
       "      <th>min</th>\n",
       "      <th>25%</th>\n",
       "      <th>50%</th>\n",
       "      <th>75%</th>\n",
       "      <th>max</th>\n",
       "    </tr>\n",
       "  </thead>\n",
       "  <tbody>\n",
       "    <tr>\n",
       "      <th>instance_id</th>\n",
       "      <td>50000.0</td>\n",
       "      <td>55888.396360</td>\n",
       "      <td>20725.256253</td>\n",
       "      <td>20002.000000</td>\n",
       "      <td>37973.5000</td>\n",
       "      <td>55913.500000</td>\n",
       "      <td>73863.250000</td>\n",
       "      <td>91759.000</td>\n",
       "    </tr>\n",
       "    <tr>\n",
       "      <th>popularity</th>\n",
       "      <td>50000.0</td>\n",
       "      <td>44.220420</td>\n",
       "      <td>15.542008</td>\n",
       "      <td>0.000000</td>\n",
       "      <td>34.0000</td>\n",
       "      <td>45.000000</td>\n",
       "      <td>56.000000</td>\n",
       "      <td>99.000</td>\n",
       "    </tr>\n",
       "    <tr>\n",
       "      <th>acousticness</th>\n",
       "      <td>50000.0</td>\n",
       "      <td>0.306383</td>\n",
       "      <td>0.341340</td>\n",
       "      <td>0.000000</td>\n",
       "      <td>0.0200</td>\n",
       "      <td>0.144000</td>\n",
       "      <td>0.552000</td>\n",
       "      <td>0.996</td>\n",
       "    </tr>\n",
       "    <tr>\n",
       "      <th>danceability</th>\n",
       "      <td>50000.0</td>\n",
       "      <td>0.558241</td>\n",
       "      <td>0.178632</td>\n",
       "      <td>0.059600</td>\n",
       "      <td>0.4420</td>\n",
       "      <td>0.568000</td>\n",
       "      <td>0.687000</td>\n",
       "      <td>0.986</td>\n",
       "    </tr>\n",
       "    <tr>\n",
       "      <th>duration_ms</th>\n",
       "      <td>50000.0</td>\n",
       "      <td>221252.602860</td>\n",
       "      <td>128671.957157</td>\n",
       "      <td>-1.000000</td>\n",
       "      <td>174800.0000</td>\n",
       "      <td>219281.000000</td>\n",
       "      <td>268612.250000</td>\n",
       "      <td>4830606.000</td>\n",
       "    </tr>\n",
       "    <tr>\n",
       "      <th>energy</th>\n",
       "      <td>50000.0</td>\n",
       "      <td>0.599755</td>\n",
       "      <td>0.264559</td>\n",
       "      <td>0.000792</td>\n",
       "      <td>0.4330</td>\n",
       "      <td>0.643000</td>\n",
       "      <td>0.815000</td>\n",
       "      <td>0.999</td>\n",
       "    </tr>\n",
       "    <tr>\n",
       "      <th>instrumentalness</th>\n",
       "      <td>50000.0</td>\n",
       "      <td>0.181601</td>\n",
       "      <td>0.325409</td>\n",
       "      <td>0.000000</td>\n",
       "      <td>0.0000</td>\n",
       "      <td>0.000158</td>\n",
       "      <td>0.155000</td>\n",
       "      <td>0.996</td>\n",
       "    </tr>\n",
       "    <tr>\n",
       "      <th>liveness</th>\n",
       "      <td>50000.0</td>\n",
       "      <td>0.193896</td>\n",
       "      <td>0.161637</td>\n",
       "      <td>0.009670</td>\n",
       "      <td>0.0969</td>\n",
       "      <td>0.126000</td>\n",
       "      <td>0.244000</td>\n",
       "      <td>1.000</td>\n",
       "    </tr>\n",
       "    <tr>\n",
       "      <th>loudness</th>\n",
       "      <td>50000.0</td>\n",
       "      <td>-9.133761</td>\n",
       "      <td>6.162990</td>\n",
       "      <td>-47.046000</td>\n",
       "      <td>-10.8600</td>\n",
       "      <td>-7.276500</td>\n",
       "      <td>-5.173000</td>\n",
       "      <td>3.744</td>\n",
       "    </tr>\n",
       "    <tr>\n",
       "      <th>speechiness</th>\n",
       "      <td>50000.0</td>\n",
       "      <td>0.093586</td>\n",
       "      <td>0.101373</td>\n",
       "      <td>0.022300</td>\n",
       "      <td>0.0361</td>\n",
       "      <td>0.048900</td>\n",
       "      <td>0.098525</td>\n",
       "      <td>0.942</td>\n",
       "    </tr>\n",
       "    <tr>\n",
       "      <th>valence</th>\n",
       "      <td>50000.0</td>\n",
       "      <td>0.456264</td>\n",
       "      <td>0.247119</td>\n",
       "      <td>0.000000</td>\n",
       "      <td>0.2570</td>\n",
       "      <td>0.448000</td>\n",
       "      <td>0.648000</td>\n",
       "      <td>0.992</td>\n",
       "    </tr>\n",
       "  </tbody>\n",
       "</table>\n",
       "</div>"
      ],
      "text/plain": [
       "                    count           mean            std           min  \\\n",
       "instance_id       50000.0   55888.396360   20725.256253  20002.000000   \n",
       "popularity        50000.0      44.220420      15.542008      0.000000   \n",
       "acousticness      50000.0       0.306383       0.341340      0.000000   \n",
       "danceability      50000.0       0.558241       0.178632      0.059600   \n",
       "duration_ms       50000.0  221252.602860  128671.957157     -1.000000   \n",
       "energy            50000.0       0.599755       0.264559      0.000792   \n",
       "instrumentalness  50000.0       0.181601       0.325409      0.000000   \n",
       "liveness          50000.0       0.193896       0.161637      0.009670   \n",
       "loudness          50000.0      -9.133761       6.162990    -47.046000   \n",
       "speechiness       50000.0       0.093586       0.101373      0.022300   \n",
       "valence           50000.0       0.456264       0.247119      0.000000   \n",
       "\n",
       "                          25%            50%            75%          max  \n",
       "instance_id        37973.5000   55913.500000   73863.250000    91759.000  \n",
       "popularity            34.0000      45.000000      56.000000       99.000  \n",
       "acousticness           0.0200       0.144000       0.552000        0.996  \n",
       "danceability           0.4420       0.568000       0.687000        0.986  \n",
       "duration_ms       174800.0000  219281.000000  268612.250000  4830606.000  \n",
       "energy                 0.4330       0.643000       0.815000        0.999  \n",
       "instrumentalness       0.0000       0.000158       0.155000        0.996  \n",
       "liveness               0.0969       0.126000       0.244000        1.000  \n",
       "loudness             -10.8600      -7.276500      -5.173000        3.744  \n",
       "speechiness            0.0361       0.048900       0.098525        0.942  \n",
       "valence                0.2570       0.448000       0.648000        0.992  "
      ]
     },
     "execution_count": 12,
     "metadata": {},
     "output_type": "execute_result"
    }
   ],
   "source": [
    "#Information description of numeric data\n",
    "data.describe().T"
   ]
  },
  {
   "cell_type": "code",
   "execution_count": 13,
   "id": "e492132b",
   "metadata": {
    "execution": {
     "iopub.execute_input": "2022-01-11T18:39:06.883878Z",
     "iopub.status.busy": "2022-01-11T18:39:06.883237Z",
     "iopub.status.idle": "2022-01-11T18:39:07.026563Z",
     "shell.execute_reply": "2022-01-11T18:39:07.027231Z",
     "shell.execute_reply.started": "2022-01-11T18:33:08.440033Z"
    },
    "papermill": {
     "duration": 0.255116,
     "end_time": "2022-01-11T18:39:07.027404",
     "exception": false,
     "start_time": "2022-01-11T18:39:06.772288",
     "status": "completed"
    },
    "tags": []
   },
   "outputs": [
    {
     "data": {
      "text/html": [
       "<div>\n",
       "<style scoped>\n",
       "    .dataframe tbody tr th:only-of-type {\n",
       "        vertical-align: middle;\n",
       "    }\n",
       "\n",
       "    .dataframe tbody tr th {\n",
       "        vertical-align: top;\n",
       "    }\n",
       "\n",
       "    .dataframe thead th {\n",
       "        text-align: right;\n",
       "    }\n",
       "</style>\n",
       "<table border=\"1\" class=\"dataframe\">\n",
       "  <thead>\n",
       "    <tr style=\"text-align: right;\">\n",
       "      <th></th>\n",
       "      <th>artist_name</th>\n",
       "      <th>track_name</th>\n",
       "      <th>key</th>\n",
       "      <th>mode</th>\n",
       "      <th>tempo</th>\n",
       "      <th>obtained_date</th>\n",
       "      <th>music_genre</th>\n",
       "    </tr>\n",
       "  </thead>\n",
       "  <tbody>\n",
       "    <tr>\n",
       "      <th>count</th>\n",
       "      <td>50000</td>\n",
       "      <td>50000</td>\n",
       "      <td>50000</td>\n",
       "      <td>50000</td>\n",
       "      <td>50000</td>\n",
       "      <td>50000</td>\n",
       "      <td>50000</td>\n",
       "    </tr>\n",
       "    <tr>\n",
       "      <th>unique</th>\n",
       "      <td>6863</td>\n",
       "      <td>41699</td>\n",
       "      <td>12</td>\n",
       "      <td>2</td>\n",
       "      <td>29394</td>\n",
       "      <td>5</td>\n",
       "      <td>10</td>\n",
       "    </tr>\n",
       "    <tr>\n",
       "      <th>top</th>\n",
       "      <td>empty_field</td>\n",
       "      <td>Home</td>\n",
       "      <td>G</td>\n",
       "      <td>Major</td>\n",
       "      <td>?</td>\n",
       "      <td>4-Apr</td>\n",
       "      <td>Electronic</td>\n",
       "    </tr>\n",
       "    <tr>\n",
       "      <th>freq</th>\n",
       "      <td>2489</td>\n",
       "      <td>16</td>\n",
       "      <td>5727</td>\n",
       "      <td>32099</td>\n",
       "      <td>4980</td>\n",
       "      <td>44748</td>\n",
       "      <td>5000</td>\n",
       "    </tr>\n",
       "  </tbody>\n",
       "</table>\n",
       "</div>"
      ],
      "text/plain": [
       "        artist_name track_name    key   mode  tempo obtained_date music_genre\n",
       "count         50000      50000  50000  50000  50000         50000       50000\n",
       "unique         6863      41699     12      2  29394             5          10\n",
       "top     empty_field       Home      G  Major      ?         4-Apr  Electronic\n",
       "freq           2489         16   5727  32099   4980         44748        5000"
      ]
     },
     "execution_count": 13,
     "metadata": {},
     "output_type": "execute_result"
    }
   ],
   "source": [
    "# Information description of string data\n",
    "data.describe(include=['O'])"
   ]
  },
  {
   "cell_type": "markdown",
   "id": "1afb3649",
   "metadata": {
    "papermill": {
     "duration": 0.10823,
     "end_time": "2022-01-11T18:39:07.246043",
     "exception": false,
     "start_time": "2022-01-11T18:39:07.137813",
     "status": "completed"
    },
    "tags": []
   },
   "source": [
    "#### Có 17 cột tính năng và một cột nhãn (music_genre). Trong số các tính năng, 12 tính năng là số (một trong số đó, tempo, không được phân loại và sẽ được xử lý sau) và 5 tính năng là phân loại.\n",
    "\n",
    "#### Ngoài ra cũng có thể thấy các gợi ý cho các giá trị bị ẩn bị thiếu trong 3 tính năng ('tempo', 'artist_name' và 'duration_ms'). Những điều đó sẽ được giải quyết trong phần bên dưới."
   ]
  },
  {
   "cell_type": "code",
   "execution_count": 14,
   "id": "9c7982b1",
   "metadata": {
    "execution": {
     "iopub.execute_input": "2022-01-11T18:39:07.476025Z",
     "iopub.status.busy": "2022-01-11T18:39:07.473363Z",
     "iopub.status.idle": "2022-01-11T18:39:07.478778Z",
     "shell.execute_reply": "2022-01-11T18:39:07.479280Z",
     "shell.execute_reply.started": "2022-01-11T18:33:08.580430Z"
    },
    "papermill": {
     "duration": 0.124506,
     "end_time": "2022-01-11T18:39:07.479448",
     "exception": false,
     "start_time": "2022-01-11T18:39:07.354942",
     "status": "completed"
    },
    "tags": []
   },
   "outputs": [
    {
     "data": {
      "text/plain": [
       "Electronic     5000\n",
       "Anime          5000\n",
       "Jazz           5000\n",
       "Alternative    5000\n",
       "Country        5000\n",
       "Rap            5000\n",
       "Blues          5000\n",
       "Rock           5000\n",
       "Classical      5000\n",
       "Hip-Hop        5000\n",
       "Name: music_genre, dtype: int64"
      ]
     },
     "execution_count": 14,
     "metadata": {},
     "output_type": "execute_result"
    }
   ],
   "source": [
    "# Check if the data is balanced\n",
    "data['music_genre'].value_counts()"
   ]
  },
  {
   "cell_type": "markdown",
   "id": "42822c9b",
   "metadata": {
    "papermill": {
     "duration": 0.10952,
     "end_time": "2022-01-11T18:39:07.697329",
     "exception": false,
     "start_time": "2022-01-11T18:39:07.587809",
     "status": "completed"
    },
    "tags": []
   },
   "source": [
    "#### There are 10 different genres with equal distribution (balanced data). This means the accuracy score will be a good metric to use."
   ]
  },
  {
   "cell_type": "markdown",
   "id": "07b43300",
   "metadata": {
    "papermill": {
     "duration": 0.108898,
     "end_time": "2022-01-11T18:39:07.915854",
     "exception": false,
     "start_time": "2022-01-11T18:39:07.806956",
     "status": "completed"
    },
    "tags": []
   },
   "source": [
    "## Exploring the features one by one:"
   ]
  },
  {
   "cell_type": "markdown",
   "id": "34e1ae5a",
   "metadata": {
    "papermill": {
     "duration": 0.111248,
     "end_time": "2022-01-11T18:39:08.136035",
     "exception": false,
     "start_time": "2022-01-11T18:39:08.024787",
     "status": "completed"
    },
    "tags": []
   },
   "source": [
    "## Instance_id:"
   ]
  },
  {
   "cell_type": "markdown",
   "id": "18cd0b0d",
   "metadata": {
    "papermill": {
     "duration": 0.108307,
     "end_time": "2022-01-11T18:39:08.353007",
     "exception": false,
     "start_time": "2022-01-11T18:39:08.244700",
     "status": "completed"
    },
    "tags": []
   },
   "source": [
    "#### Đây chỉ là một chỉ mục nên sẽ loại bỏ nó."
   ]
  },
  {
   "cell_type": "code",
   "execution_count": 15,
   "id": "9110cebc",
   "metadata": {
    "execution": {
     "iopub.execute_input": "2022-01-11T18:39:08.575335Z",
     "iopub.status.busy": "2022-01-11T18:39:08.574650Z",
     "iopub.status.idle": "2022-01-11T18:39:08.580937Z",
     "shell.execute_reply": "2022-01-11T18:39:08.581569Z",
     "shell.execute_reply.started": "2022-01-11T18:33:08.596475Z"
    },
    "papermill": {
     "duration": 0.120237,
     "end_time": "2022-01-11T18:39:08.581738",
     "exception": false,
     "start_time": "2022-01-11T18:39:08.461501",
     "status": "completed"
    },
    "tags": []
   },
   "outputs": [],
   "source": [
    "data = data.drop(columns=['instance_id'])"
   ]
  },
  {
   "cell_type": "markdown",
   "id": "65dde962",
   "metadata": {
    "papermill": {
     "duration": 0.108366,
     "end_time": "2022-01-11T18:39:08.799039",
     "exception": false,
     "start_time": "2022-01-11T18:39:08.690673",
     "status": "completed"
    },
    "tags": []
   },
   "source": [
    "## Artist's Names"
   ]
  },
  {
   "cell_type": "code",
   "execution_count": 16,
   "id": "d1b00948",
   "metadata": {
    "execution": {
     "iopub.execute_input": "2022-01-11T18:39:09.028409Z",
     "iopub.status.busy": "2022-01-11T18:39:09.027744Z",
     "iopub.status.idle": "2022-01-11T18:39:09.033278Z",
     "shell.execute_reply": "2022-01-11T18:39:09.033958Z",
     "shell.execute_reply.started": "2022-01-11T18:33:08.622093Z"
    },
    "papermill": {
     "duration": 0.124687,
     "end_time": "2022-01-11T18:39:09.034165",
     "exception": false,
     "start_time": "2022-01-11T18:39:08.909478",
     "status": "completed"
    },
    "tags": []
   },
   "outputs": [
    {
     "name": "stdout",
     "output_type": "stream",
     "text": [
      "There are 6863 unique artists in the set\n"
     ]
    }
   ],
   "source": [
    "# Print out the unique values\n",
    "print(f\"There are {data['artist_name'].nunique()} unique artists in the set\")"
   ]
  },
  {
   "cell_type": "code",
   "execution_count": 17,
   "id": "b9fa75b5",
   "metadata": {
    "execution": {
     "iopub.execute_input": "2022-01-11T18:39:09.255169Z",
     "iopub.status.busy": "2022-01-11T18:39:09.254541Z",
     "iopub.status.idle": "2022-01-11T18:39:09.276977Z",
     "shell.execute_reply": "2022-01-11T18:39:09.277535Z",
     "shell.execute_reply.started": "2022-01-11T18:33:08.639741Z"
    },
    "papermill": {
     "duration": 0.134793,
     "end_time": "2022-01-11T18:39:09.277705",
     "exception": false,
     "start_time": "2022-01-11T18:39:09.142912",
     "status": "completed"
    },
    "tags": []
   },
   "outputs": [
    {
     "data": {
      "text/plain": [
       "count           50000\n",
       "unique           6863\n",
       "top       empty_field\n",
       "freq             2489\n",
       "Name: artist_name, dtype: object"
      ]
     },
     "execution_count": 17,
     "metadata": {},
     "output_type": "execute_result"
    }
   ],
   "source": [
    "# Attribute description\n",
    "data['artist_name'].describe()"
   ]
  },
  {
   "cell_type": "code",
   "execution_count": 18,
   "id": "3f760900",
   "metadata": {
    "execution": {
     "iopub.execute_input": "2022-01-11T18:39:09.499560Z",
     "iopub.status.busy": "2022-01-11T18:39:09.498907Z",
     "iopub.status.idle": "2022-01-11T18:39:09.529831Z",
     "shell.execute_reply": "2022-01-11T18:39:09.529309Z",
     "shell.execute_reply.started": "2022-01-11T18:33:08.669947Z"
    },
    "papermill": {
     "duration": 0.143355,
     "end_time": "2022-01-11T18:39:09.529967",
     "exception": false,
     "start_time": "2022-01-11T18:39:09.386612",
     "status": "completed"
    },
    "tags": []
   },
   "outputs": [
    {
     "data": {
      "text/html": [
       "<div>\n",
       "<style scoped>\n",
       "    .dataframe tbody tr th:only-of-type {\n",
       "        vertical-align: middle;\n",
       "    }\n",
       "\n",
       "    .dataframe tbody tr th {\n",
       "        vertical-align: top;\n",
       "    }\n",
       "\n",
       "    .dataframe thead th {\n",
       "        text-align: right;\n",
       "    }\n",
       "</style>\n",
       "<table border=\"1\" class=\"dataframe\">\n",
       "  <thead>\n",
       "    <tr style=\"text-align: right;\">\n",
       "      <th></th>\n",
       "      <th>artist_name</th>\n",
       "      <th>track_name</th>\n",
       "      <th>popularity</th>\n",
       "      <th>acousticness</th>\n",
       "      <th>danceability</th>\n",
       "      <th>duration_ms</th>\n",
       "      <th>energy</th>\n",
       "      <th>instrumentalness</th>\n",
       "      <th>key</th>\n",
       "      <th>liveness</th>\n",
       "      <th>loudness</th>\n",
       "      <th>mode</th>\n",
       "      <th>speechiness</th>\n",
       "      <th>tempo</th>\n",
       "      <th>obtained_date</th>\n",
       "      <th>valence</th>\n",
       "      <th>music_genre</th>\n",
       "    </tr>\n",
       "  </thead>\n",
       "  <tbody>\n",
       "    <tr>\n",
       "      <th>19</th>\n",
       "      <td>empty_field</td>\n",
       "      <td>7th Sevens</td>\n",
       "      <td>50.0</td>\n",
       "      <td>0.0281</td>\n",
       "      <td>0.656</td>\n",
       "      <td>307328.0</td>\n",
       "      <td>0.653</td>\n",
       "      <td>0.858000</td>\n",
       "      <td>F#</td>\n",
       "      <td>0.1120</td>\n",
       "      <td>-11.883</td>\n",
       "      <td>Minor</td>\n",
       "      <td>0.0396</td>\n",
       "      <td>117.999</td>\n",
       "      <td>4-Apr</td>\n",
       "      <td>0.199</td>\n",
       "      <td>Electronic</td>\n",
       "    </tr>\n",
       "    <tr>\n",
       "      <th>25</th>\n",
       "      <td>empty_field</td>\n",
       "      <td>Revolution</td>\n",
       "      <td>34.0</td>\n",
       "      <td>0.0236</td>\n",
       "      <td>0.715</td>\n",
       "      <td>221050.0</td>\n",
       "      <td>0.978</td>\n",
       "      <td>0.000493</td>\n",
       "      <td>D</td>\n",
       "      <td>0.2160</td>\n",
       "      <td>-1.538</td>\n",
       "      <td>Major</td>\n",
       "      <td>0.3620</td>\n",
       "      <td>125.109</td>\n",
       "      <td>4-Apr</td>\n",
       "      <td>0.418</td>\n",
       "      <td>Electronic</td>\n",
       "    </tr>\n",
       "    <tr>\n",
       "      <th>44</th>\n",
       "      <td>empty_field</td>\n",
       "      <td>World (The Price Of Love) - [Radio Edit] [2015...</td>\n",
       "      <td>31.0</td>\n",
       "      <td>0.0035</td>\n",
       "      <td>0.595</td>\n",
       "      <td>222147.0</td>\n",
       "      <td>0.904</td>\n",
       "      <td>0.003780</td>\n",
       "      <td>D</td>\n",
       "      <td>0.0533</td>\n",
       "      <td>-6.805</td>\n",
       "      <td>Minor</td>\n",
       "      <td>0.0349</td>\n",
       "      <td>127.61</td>\n",
       "      <td>4-Apr</td>\n",
       "      <td>0.841</td>\n",
       "      <td>Electronic</td>\n",
       "    </tr>\n",
       "    <tr>\n",
       "      <th>128</th>\n",
       "      <td>empty_field</td>\n",
       "      <td>Down With Me - VIP</td>\n",
       "      <td>32.0</td>\n",
       "      <td>0.0139</td>\n",
       "      <td>0.498</td>\n",
       "      <td>-1.0</td>\n",
       "      <td>0.945</td>\n",
       "      <td>0.647000</td>\n",
       "      <td>F</td>\n",
       "      <td>0.3380</td>\n",
       "      <td>-0.003</td>\n",
       "      <td>Minor</td>\n",
       "      <td>0.1370</td>\n",
       "      <td>149.888</td>\n",
       "      <td>4-Apr</td>\n",
       "      <td>0.179</td>\n",
       "      <td>Electronic</td>\n",
       "    </tr>\n",
       "    <tr>\n",
       "      <th>135</th>\n",
       "      <td>empty_field</td>\n",
       "      <td>Olvidela Compa</td>\n",
       "      <td>44.0</td>\n",
       "      <td>0.1530</td>\n",
       "      <td>0.792</td>\n",
       "      <td>265133.0</td>\n",
       "      <td>0.549</td>\n",
       "      <td>0.379000</td>\n",
       "      <td>F</td>\n",
       "      <td>0.3430</td>\n",
       "      <td>-9.855</td>\n",
       "      <td>Major</td>\n",
       "      <td>0.0456</td>\n",
       "      <td>120.01299999999999</td>\n",
       "      <td>4-Apr</td>\n",
       "      <td>0.476</td>\n",
       "      <td>Electronic</td>\n",
       "    </tr>\n",
       "  </tbody>\n",
       "</table>\n",
       "</div>"
      ],
      "text/plain": [
       "     artist_name                                         track_name  \\\n",
       "19   empty_field                                         7th Sevens   \n",
       "25   empty_field                                         Revolution   \n",
       "44   empty_field  World (The Price Of Love) - [Radio Edit] [2015...   \n",
       "128  empty_field                                 Down With Me - VIP   \n",
       "135  empty_field                                     Olvidela Compa   \n",
       "\n",
       "     popularity  acousticness  danceability  duration_ms  energy  \\\n",
       "19         50.0        0.0281         0.656     307328.0   0.653   \n",
       "25         34.0        0.0236         0.715     221050.0   0.978   \n",
       "44         31.0        0.0035         0.595     222147.0   0.904   \n",
       "128        32.0        0.0139         0.498         -1.0   0.945   \n",
       "135        44.0        0.1530         0.792     265133.0   0.549   \n",
       "\n",
       "     instrumentalness key  liveness  loudness   mode  speechiness  \\\n",
       "19           0.858000  F#    0.1120   -11.883  Minor       0.0396   \n",
       "25           0.000493   D    0.2160    -1.538  Major       0.3620   \n",
       "44           0.003780   D    0.0533    -6.805  Minor       0.0349   \n",
       "128          0.647000   F    0.3380    -0.003  Minor       0.1370   \n",
       "135          0.379000   F    0.3430    -9.855  Major       0.0456   \n",
       "\n",
       "                  tempo obtained_date  valence music_genre  \n",
       "19              117.999         4-Apr    0.199  Electronic  \n",
       "25              125.109         4-Apr    0.418  Electronic  \n",
       "44               127.61         4-Apr    0.841  Electronic  \n",
       "128             149.888         4-Apr    0.179  Electronic  \n",
       "135  120.01299999999999         4-Apr    0.476  Electronic  "
      ]
     },
     "execution_count": 18,
     "metadata": {},
     "output_type": "execute_result"
    }
   ],
   "source": [
    "# Find the missing data\n",
    "missing_artist = data[data['artist_name'] == 'empty_field']\n",
    "missing_artist.head()"
   ]
  },
  {
   "cell_type": "code",
   "execution_count": 19,
   "id": "5d05153b",
   "metadata": {
    "execution": {
     "iopub.execute_input": "2022-01-11T18:39:09.753497Z",
     "iopub.status.busy": "2022-01-11T18:39:09.752852Z",
     "iopub.status.idle": "2022-01-11T18:39:09.757714Z",
     "shell.execute_reply": "2022-01-11T18:39:09.758311Z",
     "shell.execute_reply.started": "2022-01-11T18:33:08.708357Z"
    },
    "papermill": {
     "duration": 0.118727,
     "end_time": "2022-01-11T18:39:09.758476",
     "exception": false,
     "start_time": "2022-01-11T18:39:09.639749",
     "status": "completed"
    },
    "tags": []
   },
   "outputs": [
    {
     "name": "stdout",
     "output_type": "stream",
     "text": [
      "Percent of missing artist names: 4.978%\n"
     ]
    }
   ],
   "source": [
    "# Print out the percentage of data that is missed\n",
    "print(f\"Percent of missing artist names: {(missing_artist.shape[0]/data.shape[0])*100:2.4}%\")"
   ]
  },
  {
   "cell_type": "markdown",
   "id": "9b5f78a1",
   "metadata": {
    "papermill": {
     "duration": 0.109862,
     "end_time": "2022-01-11T18:39:09.978306",
     "exception": false,
     "start_time": "2022-01-11T18:39:09.868444",
     "status": "completed"
    },
    "tags": []
   },
   "source": [
    "#### 5% quan sát thiếu tên của nghệ sĩ (được đánh dấu là 'empty_field'), nhưng các mục nhập này vẫn hợp lệ nếu không. chúng tôi sẽ không bỏ những quan sát này."
   ]
  },
  {
   "cell_type": "code",
   "execution_count": 20,
   "id": "d0cb9540",
   "metadata": {
    "execution": {
     "iopub.execute_input": "2022-01-11T18:39:10.207911Z",
     "iopub.status.busy": "2022-01-11T18:39:10.207255Z",
     "iopub.status.idle": "2022-01-11T18:39:10.257439Z",
     "shell.execute_reply": "2022-01-11T18:39:10.257894Z",
     "shell.execute_reply.started": "2022-01-11T18:33:08.717807Z"
    },
    "papermill": {
     "duration": 0.169233,
     "end_time": "2022-01-11T18:39:10.258069",
     "exception": false,
     "start_time": "2022-01-11T18:39:10.088836",
     "status": "completed"
    },
    "tags": []
   },
   "outputs": [
    {
     "data": {
      "text/plain": [
       "1    0.799767\n",
       "2    0.171087\n",
       "3    0.027834\n",
       "4    0.001312\n",
       "Name: music_genre, dtype: float64"
      ]
     },
     "execution_count": 20,
     "metadata": {},
     "output_type": "execute_result"
    }
   ],
   "source": [
    "data[data['artist_name'] != 'empty_field'].groupby('artist_name')['music_genre'].nunique().value_counts(normalize=True)"
   ]
  },
  {
   "cell_type": "markdown",
   "id": "4c101d73",
   "metadata": {
    "papermill": {
     "duration": 0.109947,
     "end_time": "2022-01-11T18:39:10.481382",
     "exception": false,
     "start_time": "2022-01-11T18:39:10.371435",
     "status": "completed"
    },
    "tags": []
   },
   "source": [
    "#### Đối với các mục có tên nghệ sĩ, có vẻ như bài hát của một nghệ sĩ cụ thể có ~80% cơ hội thuộc về một thể loại cụ thể.\n",
    "#### Tuy nhiên, ở dạng hiện tại, nó không hữu ích cho việc phân loại các bài hát của các nghệ sĩ bên ngoài nhóm đào tạo và sẽ cần trích xuất các tính năng tổng quát hơn, bắt đầu với độ dài tên đơn giản nhất."
   ]
  },
  {
   "cell_type": "code",
   "execution_count": 21,
   "id": "5dbfba11",
   "metadata": {
    "execution": {
     "iopub.execute_input": "2022-01-11T18:39:10.712513Z",
     "iopub.status.busy": "2022-01-11T18:39:10.711796Z",
     "iopub.status.idle": "2022-01-11T18:39:10.745076Z",
     "shell.execute_reply": "2022-01-11T18:39:10.745639Z",
     "shell.execute_reply.started": "2022-01-11T18:33:08.777314Z"
    },
    "papermill": {
     "duration": 0.154145,
     "end_time": "2022-01-11T18:39:10.745816",
     "exception": false,
     "start_time": "2022-01-11T18:39:10.591671",
     "status": "completed"
    },
    "tags": []
   },
   "outputs": [],
   "source": [
    "# Find the length of the artists names\n",
    "data['length_name'] = data['artist_name'].str.len()"
   ]
  },
  {
   "cell_type": "code",
   "execution_count": 22,
   "id": "aa0a535f",
   "metadata": {
    "execution": {
     "iopub.execute_input": "2022-01-11T18:39:10.971654Z",
     "iopub.status.busy": "2022-01-11T18:39:10.970690Z",
     "iopub.status.idle": "2022-01-11T18:39:11.036374Z",
     "shell.execute_reply": "2022-01-11T18:39:11.035855Z",
     "shell.execute_reply.started": "2022-01-11T18:33:08.813078Z"
    },
    "papermill": {
     "duration": 0.179307,
     "end_time": "2022-01-11T18:39:11.036530",
     "exception": false,
     "start_time": "2022-01-11T18:39:10.857223",
     "status": "completed"
    },
    "tags": []
   },
   "outputs": [
    {
     "data": {
      "text/html": [
       "<div>\n",
       "<style scoped>\n",
       "    .dataframe tbody tr th:only-of-type {\n",
       "        vertical-align: middle;\n",
       "    }\n",
       "\n",
       "    .dataframe tbody tr th {\n",
       "        vertical-align: top;\n",
       "    }\n",
       "\n",
       "    .dataframe thead th {\n",
       "        text-align: right;\n",
       "    }\n",
       "</style>\n",
       "<table border=\"1\" class=\"dataframe\">\n",
       "  <thead>\n",
       "    <tr style=\"text-align: right;\">\n",
       "      <th></th>\n",
       "      <th>count</th>\n",
       "      <th>mean</th>\n",
       "      <th>std</th>\n",
       "      <th>min</th>\n",
       "      <th>25%</th>\n",
       "      <th>50%</th>\n",
       "      <th>75%</th>\n",
       "      <th>max</th>\n",
       "    </tr>\n",
       "    <tr>\n",
       "      <th>music_genre</th>\n",
       "      <th></th>\n",
       "      <th></th>\n",
       "      <th></th>\n",
       "      <th></th>\n",
       "      <th></th>\n",
       "      <th></th>\n",
       "      <th></th>\n",
       "      <th></th>\n",
       "    </tr>\n",
       "  </thead>\n",
       "  <tbody>\n",
       "    <tr>\n",
       "      <th>Alternative</th>\n",
       "      <td>4728.0</td>\n",
       "      <td>11.397631</td>\n",
       "      <td>4.898169</td>\n",
       "      <td>1.0</td>\n",
       "      <td>8.0</td>\n",
       "      <td>11.0</td>\n",
       "      <td>14.0</td>\n",
       "      <td>46.0</td>\n",
       "    </tr>\n",
       "    <tr>\n",
       "      <th>Anime</th>\n",
       "      <td>4728.0</td>\n",
       "      <td>12.198604</td>\n",
       "      <td>5.419303</td>\n",
       "      <td>2.0</td>\n",
       "      <td>8.0</td>\n",
       "      <td>12.0</td>\n",
       "      <td>15.0</td>\n",
       "      <td>35.0</td>\n",
       "    </tr>\n",
       "    <tr>\n",
       "      <th>Blues</th>\n",
       "      <td>4745.0</td>\n",
       "      <td>13.544573</td>\n",
       "      <td>5.425815</td>\n",
       "      <td>1.0</td>\n",
       "      <td>10.0</td>\n",
       "      <td>12.0</td>\n",
       "      <td>16.0</td>\n",
       "      <td>40.0</td>\n",
       "    </tr>\n",
       "    <tr>\n",
       "      <th>Classical</th>\n",
       "      <td>4734.0</td>\n",
       "      <td>16.336502</td>\n",
       "      <td>4.489369</td>\n",
       "      <td>4.0</td>\n",
       "      <td>13.0</td>\n",
       "      <td>15.0</td>\n",
       "      <td>20.0</td>\n",
       "      <td>52.0</td>\n",
       "    </tr>\n",
       "    <tr>\n",
       "      <th>Country</th>\n",
       "      <td>4779.0</td>\n",
       "      <td>12.656623</td>\n",
       "      <td>3.277890</td>\n",
       "      <td>3.0</td>\n",
       "      <td>11.0</td>\n",
       "      <td>12.0</td>\n",
       "      <td>14.0</td>\n",
       "      <td>41.0</td>\n",
       "    </tr>\n",
       "    <tr>\n",
       "      <th>Electronic</th>\n",
       "      <td>4777.0</td>\n",
       "      <td>9.734561</td>\n",
       "      <td>4.199621</td>\n",
       "      <td>2.0</td>\n",
       "      <td>7.0</td>\n",
       "      <td>9.0</td>\n",
       "      <td>12.0</td>\n",
       "      <td>26.0</td>\n",
       "    </tr>\n",
       "    <tr>\n",
       "      <th>Hip-Hop</th>\n",
       "      <td>4755.0</td>\n",
       "      <td>9.376025</td>\n",
       "      <td>3.986559</td>\n",
       "      <td>2.0</td>\n",
       "      <td>6.0</td>\n",
       "      <td>9.0</td>\n",
       "      <td>12.0</td>\n",
       "      <td>36.0</td>\n",
       "    </tr>\n",
       "    <tr>\n",
       "      <th>Jazz</th>\n",
       "      <td>4770.0</td>\n",
       "      <td>12.504193</td>\n",
       "      <td>4.777946</td>\n",
       "      <td>3.0</td>\n",
       "      <td>10.0</td>\n",
       "      <td>12.0</td>\n",
       "      <td>15.0</td>\n",
       "      <td>51.0</td>\n",
       "    </tr>\n",
       "    <tr>\n",
       "      <th>Rap</th>\n",
       "      <td>4737.0</td>\n",
       "      <td>9.645134</td>\n",
       "      <td>4.028050</td>\n",
       "      <td>2.0</td>\n",
       "      <td>7.0</td>\n",
       "      <td>9.0</td>\n",
       "      <td>12.0</td>\n",
       "      <td>38.0</td>\n",
       "    </tr>\n",
       "    <tr>\n",
       "      <th>Rock</th>\n",
       "      <td>4758.0</td>\n",
       "      <td>12.005885</td>\n",
       "      <td>5.026811</td>\n",
       "      <td>2.0</td>\n",
       "      <td>9.0</td>\n",
       "      <td>11.0</td>\n",
       "      <td>14.0</td>\n",
       "      <td>46.0</td>\n",
       "    </tr>\n",
       "  </tbody>\n",
       "</table>\n",
       "</div>"
      ],
      "text/plain": [
       "              count       mean       std  min   25%   50%   75%   max\n",
       "music_genre                                                          \n",
       "Alternative  4728.0  11.397631  4.898169  1.0   8.0  11.0  14.0  46.0\n",
       "Anime        4728.0  12.198604  5.419303  2.0   8.0  12.0  15.0  35.0\n",
       "Blues        4745.0  13.544573  5.425815  1.0  10.0  12.0  16.0  40.0\n",
       "Classical    4734.0  16.336502  4.489369  4.0  13.0  15.0  20.0  52.0\n",
       "Country      4779.0  12.656623  3.277890  3.0  11.0  12.0  14.0  41.0\n",
       "Electronic   4777.0   9.734561  4.199621  2.0   7.0   9.0  12.0  26.0\n",
       "Hip-Hop      4755.0   9.376025  3.986559  2.0   6.0   9.0  12.0  36.0\n",
       "Jazz         4770.0  12.504193  4.777946  3.0  10.0  12.0  15.0  51.0\n",
       "Rap          4737.0   9.645134  4.028050  2.0   7.0   9.0  12.0  38.0\n",
       "Rock         4758.0  12.005885  5.026811  2.0   9.0  11.0  14.0  46.0"
      ]
     },
     "execution_count": 22,
     "metadata": {},
     "output_type": "execute_result"
    }
   ],
   "source": [
    "data[data['artist_name'] != 'empty_field'].groupby('music_genre')['length_name'].describe()"
   ]
  },
  {
   "cell_type": "code",
   "execution_count": 23,
   "id": "2074e00c",
   "metadata": {},
   "outputs": [],
   "source": [
    "data2 = data.drop(data[data[\"artist_name\"] == \"empty_field\"].index)"
   ]
  },
  {
   "cell_type": "code",
   "execution_count": 24,
   "id": "b460a56b",
   "metadata": {},
   "outputs": [
    {
     "data": {
      "text/plain": [
       "ASIAN KUNG-FU GENERATION     89\n",
       "Ryuichi Sakamoto             90\n",
       "$uicideBoy$                  92\n",
       "Logic                        92\n",
       "Howard Shore                 93\n",
       "Mac Miller                   97\n",
       "Kevin Gates                 102\n",
       "Pyotr Ilyich Tchaikovsky    103\n",
       "The Black Keys              114\n",
       "Thievery Corporation        122\n",
       "Future                      124\n",
       "Eminem                      147\n",
       "Yuki Hayashi                167\n",
       "Capcom Sound Team           169\n",
       "Drake                       172\n",
       "Frédéric Chopin             241\n",
       "Johann Sebastian Bach       314\n",
       "Ludwig van Beethoven        317\n",
       "Wolfgang Amadeus Mozart     402\n",
       "Nobuo Uematsu               429\n",
       "Name: artist_name, dtype: int64"
      ]
     },
     "execution_count": 24,
     "metadata": {},
     "output_type": "execute_result"
    }
   ],
   "source": [
    "artists = data2[\"artist_name\"].value_counts()[:20].sort_values(ascending = True)\n",
    "artists"
   ]
  },
  {
   "cell_type": "code",
   "execution_count": 25,
   "metadata": {},
   "outputs": [
    {
     "data": {
      "image/png": "[encoded data removed]",
      "text/plain": [
       "<Figure size 640x480 with 1 Axes>"
      ]
     },
     "metadata": {},
     "output_type": "display_data"
    }
   ],
   "source": [
    "plt.barh(artists.index, artists)\n",
    "plt.xlabel(\"Number of songs per artist\")\n",
    "plt.title(\"Songs per artist\")\n",
    "plt.show()"
   ]
  },
  {
   "cell_type": "markdown",
   "id": "b275bb6b",
   "metadata": {},
   "source": [
    "### Có vẻ như bộ dữ liệu được biên soạn bởi các tác giả Nhật Bản hoặc ở Nhật Bản vì một số nghệ sĩ trong top20 đến từ Đất nước mặt trời mọc. Hơn nữa, nhiều nhà soạn nhạc (ví dụ: Mozart, Beethoven, v.v.) cũng tìm thấy vị trí của mình trong danh sách này. Bây giờ, để tránh số lượng lớn các tính năng, artist_name sẽ bị xóa"
   ]
  },
  {
   "cell_type": "code",
   "execution_count": 26,
   "id": "1ff224af",
   "metadata": {},
   "outputs": [],
   "source": [
    "data = data.drop(columns=['artist_name'])"
   ]
  },
  {
   "cell_type": "code",
   "execution_count": 27,
   "id": "b95c0f0c",
   "metadata": {},
   "outputs": [],
   "source": [
    "# drop 'length_name' feature\n",
    "data = data.drop(columns = ['length_name'])"
   ]
  },
  {
   "cell_type": "markdown",
   "id": "e64d7701",
   "metadata": {
    "papermill": {
     "duration": 0.117455,
     "end_time": "2022-01-11T18:39:12.143324",
     "exception": false,
     "start_time": "2022-01-11T18:39:12.025869",
     "status": "completed"
    },
    "tags": []
   },
   "source": [
    "## Track names"
   ]
  },
  {
   "cell_type": "code",
   "execution_count": 28,
   "id": "8b949f3e",
   "metadata": {
    "execution": {
     "iopub.execute_input": "2022-01-11T18:39:12.375301Z",
     "iopub.status.busy": "2022-01-11T18:39:12.374653Z",
     "iopub.status.idle": "2022-01-11T18:39:12.411141Z",
     "shell.execute_reply": "2022-01-11T18:39:12.410503Z",
     "shell.execute_reply.started": "2022-01-11T18:33:09.327476Z"
    },
    "papermill": {
     "duration": 0.154063,
     "end_time": "2022-01-11T18:39:12.411284",
     "exception": false,
     "start_time": "2022-01-11T18:39:12.257221",
     "status": "completed"
    },
    "tags": []
   },
   "outputs": [
    {
     "data": {
      "text/plain": [
       "count     50000\n",
       "unique    41699\n",
       "top        Home\n",
       "freq         16\n",
       "Name: track_name, dtype: object"
      ]
     },
     "execution_count": 28,
     "metadata": {},
     "output_type": "execute_result"
    }
   ],
   "source": [
    "data['track_name'].describe()"
   ]
  },
  {
   "cell_type": "markdown",
   "id": "e698038b",
   "metadata": {
    "papermill": {
     "duration": 0.117086,
     "end_time": "2022-01-11T18:39:23.557881",
     "exception": false,
     "start_time": "2022-01-11T18:39:23.440795",
     "status": "completed"
    },
    "tags": []
   },
   "source": [
    "### track_name chứa thông tin về tên bài hát. Theo như thống kê bên trên dataset chứa thông tin về 41699 bài hát vì nó có quá nhiều thuộc tính duy nhất và không giúp ích gì cho việc phân loại, ngược lại sẽ gây lỗi cho thuật toán nên sẽ loại bỏ nó."
   ]
  },
  {
   "cell_type": "code",
   "execution_count": 29,
   "id": "2bc48026",
   "metadata": {
    "execution": {
     "iopub.execute_input": "2022-01-11T18:39:23.798030Z",
     "iopub.status.busy": "2022-01-11T18:39:23.797385Z",
     "iopub.status.idle": "2022-01-11T18:39:23.805429Z",
     "shell.execute_reply": "2022-01-11T18:39:23.806048Z",
     "shell.execute_reply.started": "2022-01-11T18:33:16.107075Z"
    },
    "papermill": {
     "duration": 0.13107,
     "end_time": "2022-01-11T18:39:23.806233",
     "exception": false,
     "start_time": "2022-01-11T18:39:23.675163",
     "status": "completed"
    },
    "tags": []
   },
   "outputs": [],
   "source": [
    "data = data.drop(columns=['track_name'])"
   ]
  },
  {
   "cell_type": "markdown",
   "id": "0077e9c3",
   "metadata": {
    "papermill": {
     "duration": 0.119196,
     "end_time": "2022-01-11T18:39:24.043374",
     "exception": false,
     "start_time": "2022-01-11T18:39:23.924178",
     "status": "completed"
    },
    "tags": []
   },
   "source": [
    "## Popularity"
   ]
  },
  {
   "cell_type": "code",
   "execution_count": 30,
   "id": "018e8bf5",
   "metadata": {},
   "outputs": [
    {
     "data": {
      "text/plain": [
       "array([27., 31., 28., 34., 32., 47., 46., 43., 39., 22., 30., 50., 59.,\n",
       "       29., 35., 44., 33., 56., 21., 48., 45., 53., 63., 25., 36., 37.,\n",
       "       51., 55., 49., 41., 38., 52., 24., 42., 26., 96., 40., 23., 61.,\n",
       "       54., 66., 70., 67., 60., 58., 65., 69., 72., 64., 62., 57.,  0.,\n",
       "       76., 20., 74., 71., 84., 68., 18., 82.,  3., 11., 17., 15., 12.,\n",
       "       10., 13., 16., 14.,  9., 19.,  8.,  7.,  4.,  2.,  1.,  5.,  6.,\n",
       "       79., 73., 75., 78., 83., 81., 80., 77., 85., 97., 88., 87., 86.,\n",
       "       99., 89., 93., 90., 94., 91., 95., 92.])"
      ]
     },
     "execution_count": 30,
     "metadata": {},
     "output_type": "execute_result"
    }
   ],
   "source": [
    "data.popularity.unique()"
   ]
  },
  {
   "cell_type": "code",
   "execution_count": 31,
   "id": "79c7c099",
   "metadata": {},
   "outputs": [
    {
     "data": {
      "image/png": "[encoded data removed]",
      "text/plain": [
       "<Figure size 640x480 with 1 Axes>"
      ]
     },
     "metadata": {},
     "output_type": "display_data"
    }
   ],
   "source": [
    "plt.hist(data['popularity'], bins=20, edgecolor='black')\n",
    "plt.xlabel('Popularity')\n",
    "plt.ylabel('Count')\n",
    "plt.title('Distribution of Popularity')\n",
    "plt.show()"
   ]
  },
  {
   "cell_type": "code",
   "execution_count": 32,
   "id": "7c7e01b7",
   "metadata": {},
   "outputs": [
    {
     "data": {
      "text/html": [
       "<div>\n",
       "<style scoped>\n",
       "    .dataframe tbody tr th:only-of-type {\n",
       "        vertical-align: middle;\n",
       "    }\n",
       "\n",
       "    .dataframe tbody tr th {\n",
       "        vertical-align: top;\n",
       "    }\n",
       "\n",
       "    .dataframe thead th {\n",
       "        text-align: right;\n",
       "    }\n",
       "</style>\n",
       "<table border=\"1\" class=\"dataframe\">\n",
       "  <thead>\n",
       "    <tr style=\"text-align: right;\">\n",
       "      <th></th>\n",
       "      <th>count</th>\n",
       "      <th>mean</th>\n",
       "      <th>std</th>\n",
       "      <th>min</th>\n",
       "      <th>25%</th>\n",
       "      <th>50%</th>\n",
       "      <th>75%</th>\n",
       "      <th>max</th>\n",
       "    </tr>\n",
       "    <tr>\n",
       "      <th>music_genre</th>\n",
       "      <th></th>\n",
       "      <th></th>\n",
       "      <th></th>\n",
       "      <th></th>\n",
       "      <th></th>\n",
       "      <th></th>\n",
       "      <th></th>\n",
       "      <th></th>\n",
       "    </tr>\n",
       "  </thead>\n",
       "  <tbody>\n",
       "    <tr>\n",
       "      <th>Alternative</th>\n",
       "      <td>5000.0</td>\n",
       "      <td>50.2242</td>\n",
       "      <td>7.664260</td>\n",
       "      <td>0.0</td>\n",
       "      <td>45.00</td>\n",
       "      <td>49.0</td>\n",
       "      <td>55.0</td>\n",
       "      <td>83.0</td>\n",
       "    </tr>\n",
       "    <tr>\n",
       "      <th>Anime</th>\n",
       "      <td>5000.0</td>\n",
       "      <td>24.2716</td>\n",
       "      <td>9.675151</td>\n",
       "      <td>0.0</td>\n",
       "      <td>17.00</td>\n",
       "      <td>23.0</td>\n",
       "      <td>30.0</td>\n",
       "      <td>65.0</td>\n",
       "    </tr>\n",
       "    <tr>\n",
       "      <th>Blues</th>\n",
       "      <td>5000.0</td>\n",
       "      <td>34.8040</td>\n",
       "      <td>9.716422</td>\n",
       "      <td>0.0</td>\n",
       "      <td>28.75</td>\n",
       "      <td>33.0</td>\n",
       "      <td>39.0</td>\n",
       "      <td>80.0</td>\n",
       "    </tr>\n",
       "    <tr>\n",
       "      <th>Classical</th>\n",
       "      <td>5000.0</td>\n",
       "      <td>29.3158</td>\n",
       "      <td>14.100519</td>\n",
       "      <td>0.0</td>\n",
       "      <td>25.00</td>\n",
       "      <td>32.0</td>\n",
       "      <td>38.0</td>\n",
       "      <td>68.0</td>\n",
       "    </tr>\n",
       "    <tr>\n",
       "      <th>Country</th>\n",
       "      <td>5000.0</td>\n",
       "      <td>46.0100</td>\n",
       "      <td>9.771540</td>\n",
       "      <td>0.0</td>\n",
       "      <td>39.00</td>\n",
       "      <td>44.0</td>\n",
       "      <td>52.0</td>\n",
       "      <td>82.0</td>\n",
       "    </tr>\n",
       "    <tr>\n",
       "      <th>Electronic</th>\n",
       "      <td>5000.0</td>\n",
       "      <td>38.1118</td>\n",
       "      <td>9.715378</td>\n",
       "      <td>0.0</td>\n",
       "      <td>31.00</td>\n",
       "      <td>37.0</td>\n",
       "      <td>44.0</td>\n",
       "      <td>96.0</td>\n",
       "    </tr>\n",
       "    <tr>\n",
       "      <th>Hip-Hop</th>\n",
       "      <td>5000.0</td>\n",
       "      <td>58.3996</td>\n",
       "      <td>8.302271</td>\n",
       "      <td>18.0</td>\n",
       "      <td>52.00</td>\n",
       "      <td>57.0</td>\n",
       "      <td>63.0</td>\n",
       "      <td>96.0</td>\n",
       "    </tr>\n",
       "    <tr>\n",
       "      <th>Jazz</th>\n",
       "      <td>5000.0</td>\n",
       "      <td>40.9286</td>\n",
       "      <td>9.517333</td>\n",
       "      <td>0.0</td>\n",
       "      <td>36.00</td>\n",
       "      <td>40.0</td>\n",
       "      <td>46.0</td>\n",
       "      <td>79.0</td>\n",
       "    </tr>\n",
       "    <tr>\n",
       "      <th>Rap</th>\n",
       "      <td>5000.0</td>\n",
       "      <td>60.4974</td>\n",
       "      <td>8.160620</td>\n",
       "      <td>14.0</td>\n",
       "      <td>55.00</td>\n",
       "      <td>59.0</td>\n",
       "      <td>65.0</td>\n",
       "      <td>99.0</td>\n",
       "    </tr>\n",
       "    <tr>\n",
       "      <th>Rock</th>\n",
       "      <td>5000.0</td>\n",
       "      <td>59.6412</td>\n",
       "      <td>7.359110</td>\n",
       "      <td>0.0</td>\n",
       "      <td>55.00</td>\n",
       "      <td>59.0</td>\n",
       "      <td>64.0</td>\n",
       "      <td>90.0</td>\n",
       "    </tr>\n",
       "  </tbody>\n",
       "</table>\n",
       "</div>"
      ],
      "text/plain": [
       "              count     mean        std   min    25%   50%   75%   max\n",
       "music_genre                                                           \n",
       "Alternative  5000.0  50.2242   7.664260   0.0  45.00  49.0  55.0  83.0\n",
       "Anime        5000.0  24.2716   9.675151   0.0  17.00  23.0  30.0  65.0\n",
       "Blues        5000.0  34.8040   9.716422   0.0  28.75  33.0  39.0  80.0\n",
       "Classical    5000.0  29.3158  14.100519   0.0  25.00  32.0  38.0  68.0\n",
       "Country      5000.0  46.0100   9.771540   0.0  39.00  44.0  52.0  82.0\n",
       "Electronic   5000.0  38.1118   9.715378   0.0  31.00  37.0  44.0  96.0\n",
       "Hip-Hop      5000.0  58.3996   8.302271  18.0  52.00  57.0  63.0  96.0\n",
       "Jazz         5000.0  40.9286   9.517333   0.0  36.00  40.0  46.0  79.0\n",
       "Rap          5000.0  60.4974   8.160620  14.0  55.00  59.0  65.0  99.0\n",
       "Rock         5000.0  59.6412   7.359110   0.0  55.00  59.0  64.0  90.0"
      ]
     },
     "execution_count": 32,
     "metadata": {},
     "output_type": "execute_result"
    }
   ],
   "source": [
    "data.groupby('music_genre')['popularity'].describe()"
   ]
  },
  {
   "cell_type": "code",
   "execution_count": 33,
   "id": "5b425b61",
   "metadata": {},
   "outputs": [
    {
     "data": {
      "text/plain": [
       "count    50000.000000\n",
       "mean        44.220420\n",
       "std         15.542008\n",
       "min          0.000000\n",
       "25%         34.000000\n",
       "50%         45.000000\n",
       "75%         56.000000\n",
       "max         99.000000\n",
       "Name: popularity, dtype: float64"
      ]
     },
     "execution_count": 33,
     "metadata": {},
     "output_type": "execute_result"
    }
   ],
   "source": [
    "data['popularity'].describe()"
   ]
  },
  {
   "cell_type": "code",
   "execution_count": 34,
   "id": "60839206",
   "metadata": {},
   "outputs": [
    {
     "data": {
      "image/png": "[encoded data removed]",
      "text/plain": [
       "<Figure size 1600x800 with 1 Axes>"
      ]
     },
     "metadata": {},
     "output_type": "display_data"
    }
   ],
   "source": [
    "plt.figure(figsize=(16,8))\n",
    "sns.barplot(x = 'music_genre', y = 'popularity', data = data)\n",
    "plt.title('Effect of the popularity on the music genre')\n",
    "plt.show()"
   ]
  },
  {
   "cell_type": "markdown",
   "id": "63ee15f5",
   "metadata": {},
   "source": [
    "### Tính năng này cho thấy một loạt các bản phân phối tốt đẹp cho các thể loại khác nhau. Chắc chắn có thể hữu ích cho việc phân loại.\n",
    "### Rap, Hip-Hop và Rock dường như là những thể loại phổ biến nhất, trong khi Anime, Blues và Cổ điển là ít phổ biến nhất. 4 thể loại khác ở đâu đó ở giữa."
   ]
  },
  {
   "cell_type": "markdown",
   "id": "a94877ab",
   "metadata": {
    "papermill": {
     "duration": 0.120305,
     "end_time": "2022-01-11T18:39:25.527954",
     "exception": false,
     "start_time": "2022-01-11T18:39:25.407649",
     "status": "completed"
    },
    "tags": []
   },
   "source": [
    "## acousticness"
   ]
  },
  {
   "cell_type": "code",
   "execution_count": 35,
   "id": "06f72493",
   "metadata": {},
   "outputs": [
    {
     "data": {
      "text/plain": [
       "count    50000.000000\n",
       "mean         0.306383\n",
       "std          0.341340\n",
       "min          0.000000\n",
       "25%          0.020000\n",
       "50%          0.144000\n",
       "75%          0.552000\n",
       "max          0.996000\n",
       "Name: acousticness, dtype: float64"
      ]
     },
     "execution_count": 35,
     "metadata": {},
     "output_type": "execute_result"
    }
   ],
   "source": [
    "data['acousticness'].describe()"
   ]
  },
  {
   "cell_type": "code",
   "execution_count": 36,
   "id": "51a376e1",
   "metadata": {},
   "outputs": [
    {
     "name": "stderr",
     "output_type": "stream",
     "text": [
      "/var/folders/5z/n3l41jzd14z23v42607tmb9r0000gn/T/ipykernel_90454/2230170405.py:1: FutureWarning: The default value of numeric_only in DataFrameGroupBy.mean is deprecated. In a future version, numeric_only will default to False. Either specify numeric_only or select only columns which should be valid for the function.\n",
      "  df2=data.groupby([\"music_genre\"]).mean()\n"
     ]
    },
    {
     "data": {
      "text/plain": [
       "<Axes: xlabel='music_genre'>"
      ]
     },
     "execution_count": 36,
     "metadata": {},
     "output_type": "execute_result"
    },
    {
     "data": {
      "image/png": "[encoded data removed]",
      "text/plain": [
       "<Figure size 1500x1000 with 1 Axes>"
      ]
     },
     "metadata": {},
     "output_type": "display_data"
    }
   ],
   "source": [
    "df2=data.groupby([\"music_genre\"]).mean()\n",
    "df2[\"acousticness\"].plot(kind='bar', figsize=(15,10))"
   ]
  },
  {
   "cell_type": "markdown",
   "id": "772bc5be",
   "metadata": {
    "papermill": {
     "duration": 0.120965,
     "end_time": "2022-01-11T18:39:26.626509",
     "exception": false,
     "start_time": "2022-01-11T18:39:26.505544",
     "status": "completed"
    },
    "tags": []
   },
   "source": [
    "### Điều thú vị là nhạc cổ điển và nhạc jazz có tỷ lệ âm thanh cao hơn các loại còn lại"
   ]
  },
  {
   "cell_type": "markdown",
   "id": "b2abc04e",
   "metadata": {
    "papermill": {
     "duration": 0.121406,
     "end_time": "2022-01-11T18:39:26.869270",
     "exception": false,
     "start_time": "2022-01-11T18:39:26.747864",
     "status": "completed"
    },
    "tags": []
   },
   "source": [
    "## Danceability"
   ]
  },
  {
   "cell_type": "code",
   "execution_count": 37,
   "id": "0f9bb069",
   "metadata": {},
   "outputs": [
    {
     "name": "stderr",
     "output_type": "stream",
     "text": [
      "/var/folders/5z/n3l41jzd14z23v42607tmb9r0000gn/T/ipykernel_90454/2480102127.py:1: FutureWarning: The default value of numeric_only in DataFrameGroupBy.mean is deprecated. In a future version, numeric_only will default to False. Either specify numeric_only or select only columns which should be valid for the function.\n",
      "  df2=data.groupby([\"music_genre\"]).mean()\n"
     ]
    },
    {
     "data": {
      "text/plain": [
       "<Axes: xlabel='music_genre'>"
      ]
     },
     "execution_count": 37,
     "metadata": {},
     "output_type": "execute_result"
    },
    {
     "data": {
      "image/png": "[encoded data removed]",
      "text/plain": [
       "<Figure size 1500x1000 with 1 Axes>"
      ]
     },
     "metadata": {},
     "output_type": "display_data"
    }
   ],
   "source": [
    "df2=data.groupby([\"music_genre\"]).mean()\n",
    "df2[\"danceability\"].plot(kind='bar', figsize=(15,10))"
   ]
  },
  {
   "cell_type": "markdown",
   "id": "6d4c9f4e",
   "metadata": {
    "papermill": {
     "duration": 0.123866,
     "end_time": "2022-01-11T18:39:28.022596",
     "exception": false,
     "start_time": "2022-01-11T18:39:27.898730",
     "status": "completed"
    },
    "tags": []
   },
   "source": [
    "#### Nhạc cổ điển lại nổi lên, nhưng Rap và Hip-Hop cũng có thể được phân biệt với phần còn lại (dường như chúng thường đi cùng nhau)."
   ]
  },
  {
   "cell_type": "markdown",
   "id": "71d371cf",
   "metadata": {
    "papermill": {
     "duration": 0.130882,
     "end_time": "2022-01-11T18:39:28.282858",
     "exception": false,
     "start_time": "2022-01-11T18:39:28.151976",
     "status": "completed"
    },
    "tags": []
   },
   "source": [
    "## Duration"
   ]
  },
  {
   "cell_type": "code",
   "execution_count": 38,
   "id": "06727aad",
   "metadata": {
    "execution": {
     "iopub.execute_input": "2022-01-11T18:39:28.540769Z",
     "iopub.status.busy": "2022-01-11T18:39:28.540017Z",
     "iopub.status.idle": "2022-01-11T18:39:28.581051Z",
     "shell.execute_reply": "2022-01-11T18:39:28.581569Z",
     "shell.execute_reply.started": "2022-01-11T18:33:17.583119Z"
    },
    "papermill": {
     "duration": 0.17064,
     "end_time": "2022-01-11T18:39:28.581784",
     "exception": false,
     "start_time": "2022-01-11T18:39:28.411144",
     "status": "completed"
    },
    "tags": []
   },
   "outputs": [
    {
     "data": {
      "text/html": [
       "<div>\n",
       "<style scoped>\n",
       "    .dataframe tbody tr th:only-of-type {\n",
       "        vertical-align: middle;\n",
       "    }\n",
       "\n",
       "    .dataframe tbody tr th {\n",
       "        vertical-align: top;\n",
       "    }\n",
       "\n",
       "    .dataframe thead th {\n",
       "        text-align: right;\n",
       "    }\n",
       "</style>\n",
       "<table border=\"1\" class=\"dataframe\">\n",
       "  <thead>\n",
       "    <tr style=\"text-align: right;\">\n",
       "      <th></th>\n",
       "      <th>count</th>\n",
       "      <th>mean</th>\n",
       "      <th>std</th>\n",
       "      <th>min</th>\n",
       "      <th>25%</th>\n",
       "      <th>50%</th>\n",
       "      <th>75%</th>\n",
       "      <th>max</th>\n",
       "    </tr>\n",
       "    <tr>\n",
       "      <th>music_genre</th>\n",
       "      <th></th>\n",
       "      <th></th>\n",
       "      <th></th>\n",
       "      <th></th>\n",
       "      <th></th>\n",
       "      <th></th>\n",
       "      <th></th>\n",
       "      <th></th>\n",
       "    </tr>\n",
       "  </thead>\n",
       "  <tbody>\n",
       "    <tr>\n",
       "      <th>Alternative</th>\n",
       "      <td>5000.0</td>\n",
       "      <td>210404.8078</td>\n",
       "      <td>90366.002886</td>\n",
       "      <td>-1.0</td>\n",
       "      <td>185994.75</td>\n",
       "      <td>219561.5</td>\n",
       "      <td>255583.00</td>\n",
       "      <td>675653.0</td>\n",
       "    </tr>\n",
       "    <tr>\n",
       "      <th>Anime</th>\n",
       "      <td>5000.0</td>\n",
       "      <td>208880.8290</td>\n",
       "      <td>105275.946177</td>\n",
       "      <td>-1.0</td>\n",
       "      <td>146250.25</td>\n",
       "      <td>230205.5</td>\n",
       "      <td>272993.25</td>\n",
       "      <td>1295600.0</td>\n",
       "    </tr>\n",
       "    <tr>\n",
       "      <th>Blues</th>\n",
       "      <td>5000.0</td>\n",
       "      <td>229301.0962</td>\n",
       "      <td>131931.237262</td>\n",
       "      <td>-1.0</td>\n",
       "      <td>171910.00</td>\n",
       "      <td>221140.0</td>\n",
       "      <td>280033.25</td>\n",
       "      <td>2019293.0</td>\n",
       "    </tr>\n",
       "    <tr>\n",
       "      <th>Classical</th>\n",
       "      <td>5000.0</td>\n",
       "      <td>278014.3464</td>\n",
       "      <td>219698.722816</td>\n",
       "      <td>-1.0</td>\n",
       "      <td>148770.25</td>\n",
       "      <td>241640.0</td>\n",
       "      <td>362070.25</td>\n",
       "      <td>3195440.0</td>\n",
       "    </tr>\n",
       "    <tr>\n",
       "      <th>Country</th>\n",
       "      <td>5000.0</td>\n",
       "      <td>195556.0686</td>\n",
       "      <td>77252.730320</td>\n",
       "      <td>-1.0</td>\n",
       "      <td>179328.25</td>\n",
       "      <td>207073.5</td>\n",
       "      <td>233839.25</td>\n",
       "      <td>599315.0</td>\n",
       "    </tr>\n",
       "    <tr>\n",
       "      <th>Electronic</th>\n",
       "      <td>5000.0</td>\n",
       "      <td>244553.3832</td>\n",
       "      <td>164125.128913</td>\n",
       "      <td>-1.0</td>\n",
       "      <td>192655.50</td>\n",
       "      <td>236888.0</td>\n",
       "      <td>300000.00</td>\n",
       "      <td>4830606.0</td>\n",
       "    </tr>\n",
       "    <tr>\n",
       "      <th>Hip-Hop</th>\n",
       "      <td>5000.0</td>\n",
       "      <td>198395.9458</td>\n",
       "      <td>86465.775861</td>\n",
       "      <td>-1.0</td>\n",
       "      <td>167707.00</td>\n",
       "      <td>209056.0</td>\n",
       "      <td>248627.00</td>\n",
       "      <td>723573.0</td>\n",
       "    </tr>\n",
       "    <tr>\n",
       "      <th>Jazz</th>\n",
       "      <td>5000.0</td>\n",
       "      <td>238092.4468</td>\n",
       "      <td>133485.337615</td>\n",
       "      <td>-1.0</td>\n",
       "      <td>170491.00</td>\n",
       "      <td>236040.0</td>\n",
       "      <td>304278.50</td>\n",
       "      <td>1352413.0</td>\n",
       "    </tr>\n",
       "    <tr>\n",
       "      <th>Rap</th>\n",
       "      <td>5000.0</td>\n",
       "      <td>196508.7920</td>\n",
       "      <td>85618.048197</td>\n",
       "      <td>-1.0</td>\n",
       "      <td>168339.00</td>\n",
       "      <td>207509.5</td>\n",
       "      <td>244454.25</td>\n",
       "      <td>579293.0</td>\n",
       "    </tr>\n",
       "    <tr>\n",
       "      <th>Rock</th>\n",
       "      <td>5000.0</td>\n",
       "      <td>212818.3128</td>\n",
       "      <td>94290.281753</td>\n",
       "      <td>-1.0</td>\n",
       "      <td>186396.75</td>\n",
       "      <td>218793.0</td>\n",
       "      <td>257249.25</td>\n",
       "      <td>811077.0</td>\n",
       "    </tr>\n",
       "  </tbody>\n",
       "</table>\n",
       "</div>"
      ],
      "text/plain": [
       "              count         mean            std  min        25%       50%  \\\n",
       "music_genre                                                                 \n",
       "Alternative  5000.0  210404.8078   90366.002886 -1.0  185994.75  219561.5   \n",
       "Anime        5000.0  208880.8290  105275.946177 -1.0  146250.25  230205.5   \n",
       "Blues        5000.0  229301.0962  131931.237262 -1.0  171910.00  221140.0   \n",
       "Classical    5000.0  278014.3464  219698.722816 -1.0  148770.25  241640.0   \n",
       "Country      5000.0  195556.0686   77252.730320 -1.0  179328.25  207073.5   \n",
       "Electronic   5000.0  244553.3832  164125.128913 -1.0  192655.50  236888.0   \n",
       "Hip-Hop      5000.0  198395.9458   86465.775861 -1.0  167707.00  209056.0   \n",
       "Jazz         5000.0  238092.4468  133485.337615 -1.0  170491.00  236040.0   \n",
       "Rap          5000.0  196508.7920   85618.048197 -1.0  168339.00  207509.5   \n",
       "Rock         5000.0  212818.3128   94290.281753 -1.0  186396.75  218793.0   \n",
       "\n",
       "                   75%        max  \n",
       "music_genre                        \n",
       "Alternative  255583.00   675653.0  \n",
       "Anime        272993.25  1295600.0  \n",
       "Blues        280033.25  2019293.0  \n",
       "Classical    362070.25  3195440.0  \n",
       "Country      233839.25   599315.0  \n",
       "Electronic   300000.00  4830606.0  \n",
       "Hip-Hop      248627.00   723573.0  \n",
       "Jazz         304278.50  1352413.0  \n",
       "Rap          244454.25   579293.0  \n",
       "Rock         257249.25   811077.0  "
      ]
     },
     "execution_count": 38,
     "metadata": {},
     "output_type": "execute_result"
    }
   ],
   "source": [
    "data.groupby('music_genre')['duration_ms'].describe()"
   ]
  },
  {
   "cell_type": "markdown",
   "id": "e075c20e",
   "metadata": {
    "papermill": {
     "duration": 0.124049,
     "end_time": "2022-01-11T18:39:28.831987",
     "exception": false,
     "start_time": "2022-01-11T18:39:28.707938",
     "status": "completed"
    },
    "tags": []
   },
   "source": [
    "#### -1.0 rõ ràng không phải là phép đo thời gian hợp lệ. Đây là những giá trị còn thiếu."
   ]
  },
  {
   "cell_type": "code",
   "execution_count": 39,
   "id": "5d61d0ef",
   "metadata": {
    "execution": {
     "iopub.execute_input": "2022-01-11T18:39:29.086427Z",
     "iopub.status.busy": "2022-01-11T18:39:29.085718Z",
     "iopub.status.idle": "2022-01-11T18:39:29.093529Z",
     "shell.execute_reply": "2022-01-11T18:39:29.094057Z",
     "shell.execute_reply.started": "2022-01-11T18:33:17.632268Z"
    },
    "papermill": {
     "duration": 0.136229,
     "end_time": "2022-01-11T18:39:29.094276",
     "exception": false,
     "start_time": "2022-01-11T18:39:28.958047",
     "status": "completed"
    },
    "tags": []
   },
   "outputs": [
    {
     "name": "stdout",
     "output_type": "stream",
     "text": [
      "There are 4939 missing values, which accounts for 9.878% of the data points.\n"
     ]
    }
   ],
   "source": [
    "miss_duration = data[data['duration_ms'] == -1].shape[0]\n",
    "num_obs_tot = data.shape[0]\n",
    "print(f\"There are {miss_duration} missing values, which accounts for {(miss_duration/num_obs_tot)*100:2.4}% of the data points.\")"
   ]
  },
  {
   "cell_type": "markdown",
   "id": "5dc3dcc5",
   "metadata": {
    "papermill": {
     "duration": 0.126113,
     "end_time": "2022-01-11T18:39:29.986568",
     "exception": false,
     "start_time": "2022-01-11T18:39:29.860455",
     "status": "completed"
    },
    "tags": []
   },
   "source": [
    "#### Gần 10% bài dự thi bị thiếu thời lượng và so với thống kê hầu hết các bài đều gần giống nhau không có giá trị phân loại nên sẽ tiến hành bỏ tính năng này"
   ]
  },
  {
   "cell_type": "code",
   "execution_count": 40,
   "id": "dd3d436e",
   "metadata": {
    "execution": {
     "iopub.execute_input": "2022-01-11T18:39:30.241393Z",
     "iopub.status.busy": "2022-01-11T18:39:30.240726Z",
     "iopub.status.idle": "2022-01-11T18:39:30.247596Z",
     "shell.execute_reply": "2022-01-11T18:39:30.248242Z",
     "shell.execute_reply.started": "2022-01-11T18:33:18.039464Z"
    },
    "papermill": {
     "duration": 0.135048,
     "end_time": "2022-01-11T18:39:30.248412",
     "exception": false,
     "start_time": "2022-01-11T18:39:30.113364",
     "status": "completed"
    },
    "tags": []
   },
   "outputs": [],
   "source": [
    "# drop 'duration_ms' feature\n",
    "data = data.drop(columns = ['duration_ms'])"
   ]
  },
  {
   "cell_type": "markdown",
   "id": "f09b6631",
   "metadata": {
    "papermill": {
     "duration": 0.124418,
     "end_time": "2022-01-11T18:39:30.502398",
     "exception": false,
     "start_time": "2022-01-11T18:39:30.377980",
     "status": "completed"
    },
    "tags": []
   },
   "source": [
    "## Energy"
   ]
  },
  {
   "cell_type": "code",
   "execution_count": 41,
   "id": "e037a6f6",
   "metadata": {
    "execution": {
     "iopub.execute_input": "2022-01-11T18:39:31.053362Z",
     "iopub.status.busy": "2022-01-11T18:39:31.052705Z",
     "iopub.status.idle": "2022-01-11T18:39:31.421495Z",
     "shell.execute_reply": "2022-01-11T18:39:31.422022Z",
     "shell.execute_reply.started": "2022-01-11T18:33:18.103981Z"
    },
    "papermill": {
     "duration": 0.498291,
     "end_time": "2022-01-11T18:39:31.422214",
     "exception": false,
     "start_time": "2022-01-11T18:39:30.923923",
     "status": "completed"
    },
    "tags": []
   },
   "outputs": [
    {
     "data": {
      "image/png": "[encoded data removed]",
      "text/plain": [
       "<Figure size 1600x800 with 1 Axes>"
      ]
     },
     "metadata": {},
     "output_type": "display_data"
    }
   ],
   "source": [
    "plt.figure(figsize=(16,8))\n",
    "sns.boxplot(data=data, x='music_genre', y='energy')\n",
    "plt.show()"
   ]
  },
  {
   "cell_type": "markdown",
   "id": "d98ee6af",
   "metadata": {
    "papermill": {
     "duration": 0.126194,
     "end_time": "2022-01-11T18:39:31.675982",
     "exception": false,
     "start_time": "2022-01-11T18:39:31.549788",
     "status": "completed"
    },
    "tags": []
   },
   "source": [
    "#### Như thường lệ, nhạc cổ điển (classical) nổi bật hơn phần còn lại (và Jazz ở mức độ thấp hơn nhiều). Rap và Hip-Hop vẫn phù hợp với nhau."
   ]
  },
  {
   "cell_type": "markdown",
   "id": "ac43b5f7",
   "metadata": {
    "papermill": {
     "duration": 0.141307,
     "end_time": "2022-01-11T18:39:31.943996",
     "exception": false,
     "start_time": "2022-01-11T18:39:31.802689",
     "status": "completed"
    },
    "tags": []
   },
   "source": [
    "## Instrumentalness"
   ]
  },
  {
   "cell_type": "code",
   "execution_count": 42,
   "id": "19ac166a",
   "metadata": {},
   "outputs": [
    {
     "data": {
      "text/plain": [
       "0.000000    15001\n",
       "0.898000       70\n",
       "0.902000       69\n",
       "0.897000       66\n",
       "0.912000       66\n",
       "            ...  \n",
       "0.000049        1\n",
       "0.000876        1\n",
       "0.000094        1\n",
       "0.000787        1\n",
       "0.000926        1\n",
       "Name: instrumentalness, Length: 5131, dtype: int64"
      ]
     },
     "execution_count": 42,
     "metadata": {},
     "output_type": "execute_result"
    }
   ],
   "source": [
    "data['instrumentalness'].value_counts()"
   ]
  },
  {
   "cell_type": "code",
   "execution_count": 43,
   "id": "e25471b4",
   "metadata": {
    "execution": {
     "iopub.execute_input": "2022-01-11T18:39:33.200571Z",
     "iopub.status.busy": "2022-01-11T18:39:33.199554Z",
     "iopub.status.idle": "2022-01-11T18:39:33.667086Z",
     "shell.execute_reply": "2022-01-11T18:39:33.667636Z",
     "shell.execute_reply.started": "2022-01-11T18:33:18.871231Z"
    },
    "papermill": {
     "duration": 0.599404,
     "end_time": "2022-01-11T18:39:33.667803",
     "exception": false,
     "start_time": "2022-01-11T18:39:33.068399",
     "status": "completed"
    },
    "tags": []
   },
   "outputs": [
    {
     "data": {
      "text/plain": [
       "<Axes: xlabel='instrumentalness', ylabel='Count'>"
      ]
     },
     "execution_count": 43,
     "metadata": {},
     "output_type": "execute_result"
    },
    {
     "data": {
      "image/png": "[encoded data removed]",
      "text/plain": [
       "<Figure size 640x480 with 1 Axes>"
      ]
     },
     "metadata": {},
     "output_type": "display_data"
    }
   ],
   "source": [
    "sns.histplot(x='instrumentalness',data=data)"
   ]
  },
  {
   "cell_type": "markdown",
   "id": "dc79418b",
   "metadata": {
    "papermill": {
     "duration": 0.12998,
     "end_time": "2022-01-11T18:39:34.202421",
     "exception": false,
     "start_time": "2022-01-11T18:39:34.072441",
     "status": "completed"
    },
    "tags": []
   },
   "source": [
    "#### Số lượng mục nhập 0,0 lớn như vậy có thể biểu thị các giá trị bị thiếu chứ không phải là điểm dữ liệu thực, vì vậy sẽ không điền các giá trị bị thiếu. Thay vào đó sẽ loại bỏ hoàn toàn tính năng này."
   ]
  },
  {
   "cell_type": "code",
   "execution_count": 44,
   "id": "55d947cd",
   "metadata": {
    "execution": {
     "iopub.execute_input": "2022-01-11T18:39:34.468580Z",
     "iopub.status.busy": "2022-01-11T18:39:34.467907Z",
     "iopub.status.idle": "2022-01-11T18:39:34.473042Z",
     "shell.execute_reply": "2022-01-11T18:39:34.473623Z",
     "shell.execute_reply.started": "2022-01-11T18:33:19.362699Z"
    },
    "papermill": {
     "duration": 0.140949,
     "end_time": "2022-01-11T18:39:34.473804",
     "exception": false,
     "start_time": "2022-01-11T18:39:34.332855",
     "status": "completed"
    },
    "tags": []
   },
   "outputs": [],
   "source": [
    "data = data.drop(columns=['instrumentalness'])"
   ]
  },
  {
   "cell_type": "markdown",
   "id": "c280664c",
   "metadata": {
    "papermill": {
     "duration": 0.128408,
     "end_time": "2022-01-11T18:39:34.734486",
     "exception": false,
     "start_time": "2022-01-11T18:39:34.606078",
     "status": "completed"
    },
    "tags": []
   },
   "source": [
    "## Key"
   ]
  },
  {
   "cell_type": "code",
   "execution_count": 45,
   "id": "0e6231df",
   "metadata": {
    "execution": {
     "iopub.execute_input": "2022-01-11T18:39:34.997053Z",
     "iopub.status.busy": "2022-01-11T18:39:34.996396Z",
     "iopub.status.idle": "2022-01-11T18:39:35.005919Z",
     "shell.execute_reply": "2022-01-11T18:39:35.006488Z",
     "shell.execute_reply.started": "2022-01-11T18:33:19.378880Z"
    },
    "papermill": {
     "duration": 0.142984,
     "end_time": "2022-01-11T18:39:35.006679",
     "exception": false,
     "start_time": "2022-01-11T18:39:34.863695",
     "status": "completed"
    },
    "tags": []
   },
   "outputs": [
    {
     "data": {
      "text/plain": [
       "array(['A#', 'D', 'G#', 'C#', 'F#', 'B', 'G', 'F', 'A', 'C', 'E', 'D#'],\n",
       "      dtype=object)"
      ]
     },
     "execution_count": 45,
     "metadata": {},
     "output_type": "execute_result"
    }
   ],
   "source": [
    "data['key'].unique()"
   ]
  },
  {
   "cell_type": "code",
   "execution_count": 46,
   "id": "93aaccd8",
   "metadata": {
    "execution": {
     "iopub.execute_input": "2022-01-11T18:39:35.286495Z",
     "iopub.status.busy": "2022-01-11T18:39:35.285810Z",
     "iopub.status.idle": "2022-01-11T18:39:36.381843Z",
     "shell.execute_reply": "2022-01-11T18:39:36.382368Z",
     "shell.execute_reply.started": "2022-01-11T18:33:19.395493Z"
    },
    "papermill": {
     "duration": 1.243147,
     "end_time": "2022-01-11T18:39:36.382547",
     "exception": false,
     "start_time": "2022-01-11T18:39:35.139400",
     "status": "completed"
    },
    "tags": []
   },
   "outputs": [
    {
     "data": {
      "image/png": "[encoded data removed]",
      "text/plain": [
       "<Figure size 640x480 with 1 Axes>"
      ]
     },
     "metadata": {},
     "output_type": "display_data"
    }
   ],
   "source": [
    "def plot_counts(feature, order = None):\n",
    "    sns.countplot(x = feature, data = data, palette = \"ocean\", order = order)\n",
    "    plt.title(f\"Counts in each {feature}\")\n",
    "    plt.show()\n",
    "plot_counts(\"key\", [\"A\", \"A#\", \"B\", \"C\", \"C#\", \"D\", \"D#\", \"E\", \"F\", \"F#\", \"G\", \"G#\"])"
   ]
  },
  {
   "cell_type": "code",
   "execution_count": 47,
   "id": "da741c8f",
   "metadata": {},
   "outputs": [
    {
     "data": {
      "text/plain": [
       "G     5727\n",
       "C     5522\n",
       "C#    5405\n",
       "D     5265\n",
       "A     4825\n",
       "F     4341\n",
       "B     3789\n",
       "E     3760\n",
       "A#    3356\n",
       "G#    3319\n",
       "F#    3101\n",
       "D#    1590\n",
       "Name: key, dtype: int64"
      ]
     },
     "execution_count": 47,
     "metadata": {},
     "output_type": "execute_result"
    }
   ],
   "source": [
    "# Data before encoder\n",
    "data['key'].value_counts()"
   ]
  },
  {
   "cell_type": "code",
   "execution_count": 48,
   "id": "4a798df1",
   "metadata": {},
   "outputs": [
    {
     "data": {
      "image/png": "[encoded data removed]",
      "text/plain": [
       "<Figure size 1600x800 with 1 Axes>"
      ]
     },
     "metadata": {},
     "output_type": "display_data"
    }
   ],
   "source": [
    "plt.figure(figsize=(16,8))\n",
    "sns.countplot(x=\"music_genre\", hue=\"key\",data=data)\n",
    "plt.legend(loc=0)\n",
    "plt.show()"
   ]
  },
  {
   "cell_type": "markdown",
   "id": "88bbb3d9",
   "metadata": {},
   "source": [
    "- Có thể thấy với một số thể loại như điện tử, rap, hiphop thì key = C# là chính\n",
    "- Country và blues, key = D hoặc key = G chiếm đa số\n",
    "- Key = D# khá thấp ở tất cả các thể loại\n",
    "- Phần còn lại phân bố khá đều"
   ]
  },
  {
   "cell_type": "code",
   "execution_count": 49,
   "id": "a4440faa",
   "metadata": {},
   "outputs": [],
   "source": [
    "# Encode key feature\n",
    "from sklearn.preprocessing import LabelEncoder\n",
    "key_encoder = LabelEncoder()\n",
    "data[\"key\"] = key_encoder.fit_transform(data[\"key\"])"
   ]
  },
  {
   "cell_type": "code",
   "execution_count": 50,
   "id": "91579dbd",
   "metadata": {},
   "outputs": [
    {
     "data": {
      "text/plain": [
       "10    5727\n",
       "3     5522\n",
       "4     5405\n",
       "5     5265\n",
       "0     4825\n",
       "8     4341\n",
       "2     3789\n",
       "7     3760\n",
       "1     3356\n",
       "11    3319\n",
       "9     3101\n",
       "6     1590\n",
       "Name: key, dtype: int64"
      ]
     },
     "execution_count": 50,
     "metadata": {},
     "output_type": "execute_result"
    }
   ],
   "source": [
    "# Data after encoder\n",
    "data['key'].value_counts()"
   ]
  },
  {
   "cell_type": "markdown",
   "id": "9a24719e",
   "metadata": {
    "papermill": {
     "duration": 0.132824,
     "end_time": "2022-01-11T18:39:36.955189",
     "exception": false,
     "start_time": "2022-01-11T18:39:36.822365",
     "status": "completed"
    },
    "tags": []
   },
   "source": [
    "#### Các thể loại khác nhau có mức chênh lệch đáng kể. Chúng tôi sẽ giữ tính năng này, nhưng sử dụng Label Encoder để làm cho nó hữu ích."
   ]
  },
  {
   "cell_type": "markdown",
   "id": "a88cce87",
   "metadata": {
    "papermill": {
     "duration": 0.130362,
     "end_time": "2022-01-11T18:39:37.508703",
     "exception": false,
     "start_time": "2022-01-11T18:39:37.378341",
     "status": "completed"
    },
    "tags": []
   },
   "source": [
    "## Liveness"
   ]
  },
  {
   "cell_type": "code",
   "execution_count": 51,
   "id": "b39f74fe",
   "metadata": {
    "execution": {
     "iopub.execute_input": "2022-01-11T18:39:38.850461Z",
     "iopub.status.busy": "2022-01-11T18:39:38.849757Z",
     "iopub.status.idle": "2022-01-11T18:39:39.968873Z",
     "shell.execute_reply": "2022-01-11T18:39:39.968245Z",
     "shell.execute_reply.started": "2022-01-11T18:33:20.909411Z"
    },
    "papermill": {
     "duration": 1.26105,
     "end_time": "2022-01-11T18:39:39.969008",
     "exception": false,
     "start_time": "2022-01-11T18:39:38.707958",
     "status": "completed"
    },
    "tags": []
   },
   "outputs": [
    {
     "data": {
      "image/png": "[encoded data removed]",
      "text/plain": [
       "<Figure size 640x480 with 1 Axes>"
      ]
     },
     "metadata": {},
     "output_type": "display_data"
    }
   ],
   "source": [
    "data.groupby('music_genre')['liveness'].plot.kde()\n",
    "plt.legend()\n",
    "plt.xlim([0,1])\n",
    "plt.show()"
   ]
  },
  {
   "cell_type": "markdown",
   "id": "2b86fea3",
   "metadata": {
    "papermill": {
     "duration": 0.134231,
     "end_time": "2022-01-11T18:39:40.238620",
     "exception": false,
     "start_time": "2022-01-11T18:39:40.104389",
     "status": "completed"
    },
    "tags": []
   },
   "source": [
    "#### Các bản phân phối có vẻ sai lệch giống nhau đối với tất cả các thể loại, vì vậy tính năng này có thể sẽ không đóng góp nhiều cho mô hình nên sẽ thử cả khi có và không có tính năng này."
   ]
  },
  {
   "cell_type": "code",
   "execution_count": 52,
   "id": "73783688",
   "metadata": {},
   "outputs": [],
   "source": [
    "data = data.drop(columns=['liveness'])"
   ]
  },
  {
   "cell_type": "markdown",
   "id": "9fde8d95",
   "metadata": {
    "papermill": {
     "duration": 0.13603,
     "end_time": "2022-01-11T18:39:40.515347",
     "exception": false,
     "start_time": "2022-01-11T18:39:40.379317",
     "status": "completed"
    },
    "tags": []
   },
   "source": [
    "## Loudness"
   ]
  },
  {
   "cell_type": "code",
   "execution_count": 53,
   "id": "6b7de8a8",
   "metadata": {
    "execution": {
     "iopub.execute_input": "2022-01-11T18:39:40.792852Z",
     "iopub.status.busy": "2022-01-11T18:39:40.792156Z",
     "iopub.status.idle": "2022-01-11T18:39:40.828399Z",
     "shell.execute_reply": "2022-01-11T18:39:40.827869Z",
     "shell.execute_reply.started": "2022-01-11T18:33:22.097921Z"
    },
    "papermill": {
     "duration": 0.179151,
     "end_time": "2022-01-11T18:39:40.828542",
     "exception": false,
     "start_time": "2022-01-11T18:39:40.649391",
     "status": "completed"
    },
    "tags": []
   },
   "outputs": [
    {
     "data": {
      "text/plain": [
       "count    50000.000000\n",
       "mean        -9.133761\n",
       "std          6.162990\n",
       "min        -47.046000\n",
       "25%        -10.860000\n",
       "50%         -7.276500\n",
       "75%         -5.173000\n",
       "max          3.744000\n",
       "Name: loudness, dtype: float64"
      ]
     },
     "execution_count": 53,
     "metadata": {},
     "output_type": "execute_result"
    }
   ],
   "source": [
    "data['loudness'].describe()"
   ]
  },
  {
   "cell_type": "code",
   "execution_count": 54,
   "id": "92766ea0",
   "metadata": {},
   "outputs": [
    {
     "data": {
      "text/html": [
       "<div>\n",
       "<style scoped>\n",
       "    .dataframe tbody tr th:only-of-type {\n",
       "        vertical-align: middle;\n",
       "    }\n",
       "\n",
       "    .dataframe tbody tr th {\n",
       "        vertical-align: top;\n",
       "    }\n",
       "\n",
       "    .dataframe thead th {\n",
       "        text-align: right;\n",
       "    }\n",
       "</style>\n",
       "<table border=\"1\" class=\"dataframe\">\n",
       "  <thead>\n",
       "    <tr style=\"text-align: right;\">\n",
       "      <th></th>\n",
       "      <th>count</th>\n",
       "      <th>mean</th>\n",
       "      <th>std</th>\n",
       "      <th>min</th>\n",
       "      <th>25%</th>\n",
       "      <th>50%</th>\n",
       "      <th>75%</th>\n",
       "      <th>max</th>\n",
       "    </tr>\n",
       "    <tr>\n",
       "      <th>music_genre</th>\n",
       "      <th></th>\n",
       "      <th></th>\n",
       "      <th></th>\n",
       "      <th></th>\n",
       "      <th></th>\n",
       "      <th></th>\n",
       "      <th></th>\n",
       "      <th></th>\n",
       "    </tr>\n",
       "  </thead>\n",
       "  <tbody>\n",
       "    <tr>\n",
       "      <th>Alternative</th>\n",
       "      <td>5000.0</td>\n",
       "      <td>-6.517714</td>\n",
       "      <td>2.767036</td>\n",
       "      <td>-22.191</td>\n",
       "      <td>-7.98250</td>\n",
       "      <td>-5.9930</td>\n",
       "      <td>-4.50000</td>\n",
       "      <td>1.342</td>\n",
       "    </tr>\n",
       "    <tr>\n",
       "      <th>Anime</th>\n",
       "      <td>5000.0</td>\n",
       "      <td>-7.963515</td>\n",
       "      <td>6.246825</td>\n",
       "      <td>-41.234</td>\n",
       "      <td>-10.69125</td>\n",
       "      <td>-5.6605</td>\n",
       "      <td>-3.58900</td>\n",
       "      <td>1.893</td>\n",
       "    </tr>\n",
       "    <tr>\n",
       "      <th>Blues</th>\n",
       "      <td>5000.0</td>\n",
       "      <td>-9.009528</td>\n",
       "      <td>3.833429</td>\n",
       "      <td>-31.284</td>\n",
       "      <td>-11.31600</td>\n",
       "      <td>-8.4555</td>\n",
       "      <td>-6.17675</td>\n",
       "      <td>3.744</td>\n",
       "    </tr>\n",
       "    <tr>\n",
       "      <th>Classical</th>\n",
       "      <td>5000.0</td>\n",
       "      <td>-21.586253</td>\n",
       "      <td>7.730315</td>\n",
       "      <td>-47.046</td>\n",
       "      <td>-26.44300</td>\n",
       "      <td>-21.8725</td>\n",
       "      <td>-17.23300</td>\n",
       "      <td>-2.304</td>\n",
       "    </tr>\n",
       "    <tr>\n",
       "      <th>Country</th>\n",
       "      <td>5000.0</td>\n",
       "      <td>-7.297150</td>\n",
       "      <td>3.210097</td>\n",
       "      <td>-27.119</td>\n",
       "      <td>-8.80225</td>\n",
       "      <td>-6.5275</td>\n",
       "      <td>-5.02000</td>\n",
       "      <td>-0.521</td>\n",
       "    </tr>\n",
       "    <tr>\n",
       "      <th>Electronic</th>\n",
       "      <td>5000.0</td>\n",
       "      <td>-7.034238</td>\n",
       "      <td>3.683159</td>\n",
       "      <td>-25.582</td>\n",
       "      <td>-9.26050</td>\n",
       "      <td>-6.4650</td>\n",
       "      <td>-4.37600</td>\n",
       "      <td>1.585</td>\n",
       "    </tr>\n",
       "    <tr>\n",
       "      <th>Hip-Hop</th>\n",
       "      <td>5000.0</td>\n",
       "      <td>-6.851158</td>\n",
       "      <td>2.457706</td>\n",
       "      <td>-25.602</td>\n",
       "      <td>-8.16025</td>\n",
       "      <td>-6.5090</td>\n",
       "      <td>-5.20350</td>\n",
       "      <td>1.012</td>\n",
       "    </tr>\n",
       "    <tr>\n",
       "      <th>Jazz</th>\n",
       "      <td>5000.0</td>\n",
       "      <td>-11.185364</td>\n",
       "      <td>4.662576</td>\n",
       "      <td>-35.200</td>\n",
       "      <td>-13.62125</td>\n",
       "      <td>-10.3455</td>\n",
       "      <td>-7.84350</td>\n",
       "      <td>-1.002</td>\n",
       "    </tr>\n",
       "    <tr>\n",
       "      <th>Rap</th>\n",
       "      <td>5000.0</td>\n",
       "      <td>-6.668337</td>\n",
       "      <td>2.427193</td>\n",
       "      <td>-22.589</td>\n",
       "      <td>-7.97650</td>\n",
       "      <td>-6.3550</td>\n",
       "      <td>-5.03775</td>\n",
       "      <td>-0.092</td>\n",
       "    </tr>\n",
       "    <tr>\n",
       "      <th>Rock</th>\n",
       "      <td>5000.0</td>\n",
       "      <td>-7.224354</td>\n",
       "      <td>3.311059</td>\n",
       "      <td>-37.124</td>\n",
       "      <td>-9.00050</td>\n",
       "      <td>-6.4400</td>\n",
       "      <td>-4.83075</td>\n",
       "      <td>1.023</td>\n",
       "    </tr>\n",
       "  </tbody>\n",
       "</table>\n",
       "</div>"
      ],
      "text/plain": [
       "              count       mean       std     min       25%      50%       75%  \\\n",
       "music_genre                                                                     \n",
       "Alternative  5000.0  -6.517714  2.767036 -22.191  -7.98250  -5.9930  -4.50000   \n",
       "Anime        5000.0  -7.963515  6.246825 -41.234 -10.69125  -5.6605  -3.58900   \n",
       "Blues        5000.0  -9.009528  3.833429 -31.284 -11.31600  -8.4555  -6.17675   \n",
       "Classical    5000.0 -21.586253  7.730315 -47.046 -26.44300 -21.8725 -17.23300   \n",
       "Country      5000.0  -7.297150  3.210097 -27.119  -8.80225  -6.5275  -5.02000   \n",
       "Electronic   5000.0  -7.034238  3.683159 -25.582  -9.26050  -6.4650  -4.37600   \n",
       "Hip-Hop      5000.0  -6.851158  2.457706 -25.602  -8.16025  -6.5090  -5.20350   \n",
       "Jazz         5000.0 -11.185364  4.662576 -35.200 -13.62125 -10.3455  -7.84350   \n",
       "Rap          5000.0  -6.668337  2.427193 -22.589  -7.97650  -6.3550  -5.03775   \n",
       "Rock         5000.0  -7.224354  3.311059 -37.124  -9.00050  -6.4400  -4.83075   \n",
       "\n",
       "               max  \n",
       "music_genre         \n",
       "Alternative  1.342  \n",
       "Anime        1.893  \n",
       "Blues        3.744  \n",
       "Classical   -2.304  \n",
       "Country     -0.521  \n",
       "Electronic   1.585  \n",
       "Hip-Hop      1.012  \n",
       "Jazz        -1.002  \n",
       "Rap         -0.092  \n",
       "Rock         1.023  "
      ]
     },
     "execution_count": 54,
     "metadata": {},
     "output_type": "execute_result"
    }
   ],
   "source": [
    "data.groupby('music_genre')['loudness'].describe()"
   ]
  },
  {
   "cell_type": "code",
   "execution_count": 55,
   "id": "6f185cd3",
   "metadata": {
    "execution": {
     "iopub.execute_input": "2022-01-11T18:39:41.105999Z",
     "iopub.status.busy": "2022-01-11T18:39:41.105008Z",
     "iopub.status.idle": "2022-01-11T18:39:41.434007Z",
     "shell.execute_reply": "2022-01-11T18:39:41.433499Z",
     "shell.execute_reply.started": "2022-01-11T18:33:22.146855Z"
    },
    "papermill": {
     "duration": 0.469212,
     "end_time": "2022-01-11T18:39:41.434166",
     "exception": false,
     "start_time": "2022-01-11T18:39:40.964954",
     "status": "completed"
    },
    "tags": []
   },
   "outputs": [
    {
     "name": "stderr",
     "output_type": "stream",
     "text": [
      "/var/folders/5z/n3l41jzd14z23v42607tmb9r0000gn/T/ipykernel_90454/2354139938.py:1: FutureWarning: The default value of numeric_only in DataFrameGroupBy.mean is deprecated. In a future version, numeric_only will default to False. Either specify numeric_only or select only columns which should be valid for the function.\n",
      "  df1=data.groupby([\"music_genre\"]).mean()\n"
     ]
    },
    {
     "data": {
      "text/plain": [
       "<Axes: xlabel='music_genre'>"
      ]
     },
     "execution_count": 55,
     "metadata": {},
     "output_type": "execute_result"
    },
    {
     "data": {
      "image/png": "[encoded data removed]",
      "text/plain": [
       "<Figure size 1600x1000 with 1 Axes>"
      ]
     },
     "metadata": {},
     "output_type": "display_data"
    }
   ],
   "source": [
    "df1=data.groupby([\"music_genre\"]).mean()\n",
    "df1[\"loudness\"].plot(kind='bar', figsize=(16,10))"
   ]
  },
  {
   "cell_type": "markdown",
   "id": "3b44f8d7",
   "metadata": {
    "papermill": {
     "duration": 0.135199,
     "end_time": "2022-01-11T18:39:41.705330",
     "exception": false,
     "start_time": "2022-01-11T18:39:41.570131",
     "status": "completed"
    },
    "tags": []
   },
   "source": [
    "#### Như thường lệ, nhạc cổ điển (classical) khác xa so với phần còn lại, tiếp theo là Jazz (và Blues) cũng có phần khác biệt."
   ]
  },
  {
   "cell_type": "markdown",
   "id": "12a019ac",
   "metadata": {
    "papermill": {
     "duration": 0.135915,
     "end_time": "2022-01-11T18:39:41.979356",
     "exception": false,
     "start_time": "2022-01-11T18:39:41.843441",
     "status": "completed"
    },
    "tags": []
   },
   "source": [
    "## Mode"
   ]
  },
  {
   "cell_type": "code",
   "execution_count": 56,
   "id": "6fd6c900",
   "metadata": {
    "execution": {
     "iopub.execute_input": "2022-01-11T18:39:42.261801Z",
     "iopub.status.busy": "2022-01-11T18:39:42.261065Z",
     "iopub.status.idle": "2022-01-11T18:39:42.264516Z",
     "shell.execute_reply": "2022-01-11T18:39:42.265076Z",
     "shell.execute_reply.started": "2022-01-11T18:33:22.516659Z"
    },
    "papermill": {
     "duration": 0.147521,
     "end_time": "2022-01-11T18:39:42.265261",
     "exception": false,
     "start_time": "2022-01-11T18:39:42.117740",
     "status": "completed"
    },
    "tags": []
   },
   "outputs": [
    {
     "data": {
      "text/plain": [
       "array(['Minor', 'Major'], dtype=object)"
      ]
     },
     "execution_count": 56,
     "metadata": {},
     "output_type": "execute_result"
    }
   ],
   "source": [
    "data['mode'].unique()"
   ]
  },
  {
   "cell_type": "code",
   "execution_count": 57,
   "id": "d614a29a",
   "metadata": {
    "execution": {
     "iopub.execute_input": "2022-01-11T18:39:42.858421Z",
     "iopub.status.busy": "2022-01-11T18:39:42.857799Z",
     "iopub.status.idle": "2022-01-11T18:39:43.175746Z",
     "shell.execute_reply": "2022-01-11T18:39:43.176308Z",
     "shell.execute_reply.started": "2022-01-11T18:33:22.577470Z"
    },
    "papermill": {
     "duration": 0.458329,
     "end_time": "2022-01-11T18:39:43.176477",
     "exception": false,
     "start_time": "2022-01-11T18:39:42.718148",
     "status": "completed"
    },
    "tags": []
   },
   "outputs": [
    {
     "data": {
      "image/png": "[encoded data removed]",
      "text/plain": [
       "<Figure size 1000x500 with 1 Axes>"
      ]
     },
     "metadata": {},
     "output_type": "display_data"
    }
   ],
   "source": [
    "plt.figure(figsize=(10,5))\n",
    "sns.countplot(x=\"music_genre\", hue=\"mode\",data=data)\n",
    "plt.legend(loc=0)\n",
    "plt.show()"
   ]
  },
  {
   "cell_type": "markdown",
   "id": "22840362",
   "metadata": {
    "papermill": {
     "duration": 0.138717,
     "end_time": "2022-01-11T18:39:43.454641",
     "exception": false,
     "start_time": "2022-01-11T18:39:43.315924",
     "status": "completed"
    },
    "tags": []
   },
   "source": [
    "### Tất cả các thể loại dường như đều ưu tiên chế độ \"Major\", nhưng ở các mức độ khác nhau. Nó rõ rệt nhất trong thể loại Country nên sẽ sử dụng tính năng này sau khi mã hóa."
   ]
  },
  {
   "cell_type": "code",
   "execution_count": 58,
   "id": "106a2864",
   "metadata": {},
   "outputs": [
    {
     "data": {
      "text/plain": [
       "Major    32099\n",
       "Minor    17901\n",
       "Name: mode, dtype: int64"
      ]
     },
     "execution_count": 58,
     "metadata": {},
     "output_type": "execute_result"
    }
   ],
   "source": [
    "# Data before encoder\n",
    "data['mode'].value_counts()"
   ]
  },
  {
   "cell_type": "code",
   "execution_count": 59,
   "id": "00b1dfcf",
   "metadata": {},
   "outputs": [],
   "source": [
    "# Encode mode feature\n",
    "key_encoder = LabelEncoder()\n",
    "data[\"mode\"] = key_encoder.fit_transform(data[\"mode\"])"
   ]
  },
  {
   "cell_type": "code",
   "execution_count": 60,
   "id": "06957402",
   "metadata": {},
   "outputs": [
    {
     "data": {
      "text/plain": [
       "0    32099\n",
       "1    17901\n",
       "Name: mode, dtype: int64"
      ]
     },
     "execution_count": 60,
     "metadata": {},
     "output_type": "execute_result"
    }
   ],
   "source": [
    "# Data after encoder\n",
    "data['mode'].value_counts()"
   ]
  },
  {
   "cell_type": "code",
   "execution_count": 61,
   "id": "389d8282",
   "metadata": {},
   "outputs": [
    {
     "name": "stdout",
     "output_type": "stream",
     "text": [
      "<class 'pandas.core.frame.DataFrame'>\n",
      "RangeIndex: 50000 entries, 0 to 49999\n",
      "Data columns (total 12 columns):\n",
      " #   Column         Non-Null Count  Dtype  \n",
      "---  ------         --------------  -----  \n",
      " 0   popularity     50000 non-null  float64\n",
      " 1   acousticness   50000 non-null  float64\n",
      " 2   danceability   50000 non-null  float64\n",
      " 3   energy         50000 non-null  float64\n",
      " 4   key            50000 non-null  int64  \n",
      " 5   loudness       50000 non-null  float64\n",
      " 6   mode           50000 non-null  int64  \n",
      " 7   speechiness    50000 non-null  float64\n",
      " 8   tempo          50000 non-null  object \n",
      " 9   obtained_date  50000 non-null  object \n",
      " 10  valence        50000 non-null  float64\n",
      " 11  music_genre    50000 non-null  object \n",
      "dtypes: float64(7), int64(2), object(3)\n",
      "memory usage: 4.6+ MB\n"
     ]
    }
   ],
   "source": [
    "data.info()"
   ]
  },
  {
   "cell_type": "markdown",
   "id": "9a24d721",
   "metadata": {
    "papermill": {
     "duration": 0.138436,
     "end_time": "2022-01-11T18:39:44.094648",
     "exception": false,
     "start_time": "2022-01-11T18:39:43.956212",
     "status": "completed"
    },
    "tags": []
   },
   "source": [
    "## Speechiness"
   ]
  },
  {
   "cell_type": "code",
   "execution_count": 62,
   "id": "64432050",
   "metadata": {},
   "outputs": [
    {
     "data": {
      "image/png": "[encoded data removed]",
      "text/plain": [
       "<Figure size 1600x800 with 1 Axes>"
      ]
     },
     "metadata": {},
     "output_type": "display_data"
    }
   ],
   "source": [
    "plt.figure(figsize=(16,8))\n",
    "sns.barplot(x = 'music_genre', y = 'speechiness', data = data)\n",
    "plt.title('Effect of the speechiness on the music genre')\n",
    "plt.show()"
   ]
  },
  {
   "cell_type": "markdown",
   "id": "7fb11dcf",
   "metadata": {
    "papermill": {
     "duration": 0.140593,
     "end_time": "2022-01-11T18:39:45.313827",
     "exception": false,
     "start_time": "2022-01-11T18:39:45.173234",
     "status": "completed"
    },
    "tags": []
   },
   "source": [
    "#### Tính năng này sẽ góp phần đặc biệt vào việc xác định Hip-Hop và Rap."
   ]
  },
  {
   "cell_type": "markdown",
   "id": "7b69e87a",
   "metadata": {
    "papermill": {
     "duration": 0.139285,
     "end_time": "2022-01-11T18:39:45.594320",
     "exception": false,
     "start_time": "2022-01-11T18:39:45.455035",
     "status": "completed"
    },
    "tags": []
   },
   "source": [
    "## Tempo"
   ]
  },
  {
   "cell_type": "code",
   "execution_count": 63,
   "id": "2730f2b8",
   "metadata": {
    "execution": {
     "iopub.execute_input": "2022-01-11T18:39:45.878700Z",
     "iopub.status.busy": "2022-01-11T18:39:45.877740Z",
     "iopub.status.idle": "2022-01-11T18:39:45.934544Z",
     "shell.execute_reply": "2022-01-11T18:39:45.933858Z",
     "shell.execute_reply.started": "2022-01-11T18:33:23.582356Z"
    },
    "papermill": {
     "duration": 0.20054,
     "end_time": "2022-01-11T18:39:45.934721",
     "exception": false,
     "start_time": "2022-01-11T18:39:45.734181",
     "status": "completed"
    },
    "tags": []
   },
   "outputs": [
    {
     "data": {
      "text/html": [
       "<div>\n",
       "<style scoped>\n",
       "    .dataframe tbody tr th:only-of-type {\n",
       "        vertical-align: middle;\n",
       "    }\n",
       "\n",
       "    .dataframe tbody tr th {\n",
       "        vertical-align: top;\n",
       "    }\n",
       "\n",
       "    .dataframe thead th {\n",
       "        text-align: right;\n",
       "    }\n",
       "</style>\n",
       "<table border=\"1\" class=\"dataframe\">\n",
       "  <thead>\n",
       "    <tr style=\"text-align: right;\">\n",
       "      <th></th>\n",
       "      <th>count</th>\n",
       "      <th>unique</th>\n",
       "      <th>top</th>\n",
       "      <th>freq</th>\n",
       "    </tr>\n",
       "    <tr>\n",
       "      <th>music_genre</th>\n",
       "      <th></th>\n",
       "      <th></th>\n",
       "      <th></th>\n",
       "      <th></th>\n",
       "    </tr>\n",
       "  </thead>\n",
       "  <tbody>\n",
       "    <tr>\n",
       "      <th>Alternative</th>\n",
       "      <td>5000</td>\n",
       "      <td>4236</td>\n",
       "      <td>?</td>\n",
       "      <td>505</td>\n",
       "    </tr>\n",
       "    <tr>\n",
       "      <th>Anime</th>\n",
       "      <td>5000</td>\n",
       "      <td>4134</td>\n",
       "      <td>?</td>\n",
       "      <td>503</td>\n",
       "    </tr>\n",
       "    <tr>\n",
       "      <th>Blues</th>\n",
       "      <td>5000</td>\n",
       "      <td>4376</td>\n",
       "      <td>?</td>\n",
       "      <td>530</td>\n",
       "    </tr>\n",
       "    <tr>\n",
       "      <th>Classical</th>\n",
       "      <td>5000</td>\n",
       "      <td>4380</td>\n",
       "      <td>?</td>\n",
       "      <td>500</td>\n",
       "    </tr>\n",
       "    <tr>\n",
       "      <th>Country</th>\n",
       "      <td>5000</td>\n",
       "      <td>4233</td>\n",
       "      <td>?</td>\n",
       "      <td>514</td>\n",
       "    </tr>\n",
       "    <tr>\n",
       "      <th>Electronic</th>\n",
       "      <td>5000</td>\n",
       "      <td>3644</td>\n",
       "      <td>?</td>\n",
       "      <td>534</td>\n",
       "    </tr>\n",
       "    <tr>\n",
       "      <th>Hip-Hop</th>\n",
       "      <td>5000</td>\n",
       "      <td>4115</td>\n",
       "      <td>?</td>\n",
       "      <td>480</td>\n",
       "    </tr>\n",
       "    <tr>\n",
       "      <th>Jazz</th>\n",
       "      <td>5000</td>\n",
       "      <td>4302</td>\n",
       "      <td>?</td>\n",
       "      <td>479</td>\n",
       "    </tr>\n",
       "    <tr>\n",
       "      <th>Rap</th>\n",
       "      <td>5000</td>\n",
       "      <td>4076</td>\n",
       "      <td>?</td>\n",
       "      <td>496</td>\n",
       "    </tr>\n",
       "    <tr>\n",
       "      <th>Rock</th>\n",
       "      <td>5000</td>\n",
       "      <td>4341</td>\n",
       "      <td>?</td>\n",
       "      <td>439</td>\n",
       "    </tr>\n",
       "  </tbody>\n",
       "</table>\n",
       "</div>"
      ],
      "text/plain": [
       "            count unique top freq\n",
       "music_genre                      \n",
       "Alternative  5000   4236   ?  505\n",
       "Anime        5000   4134   ?  503\n",
       "Blues        5000   4376   ?  530\n",
       "Classical    5000   4380   ?  500\n",
       "Country      5000   4233   ?  514\n",
       "Electronic   5000   3644   ?  534\n",
       "Hip-Hop      5000   4115   ?  480\n",
       "Jazz         5000   4302   ?  479\n",
       "Rap          5000   4076   ?  496\n",
       "Rock         5000   4341   ?  439"
      ]
     },
     "execution_count": 63,
     "metadata": {},
     "output_type": "execute_result"
    }
   ],
   "source": [
    "data.groupby('music_genre')['tempo'].describe()"
   ]
  },
  {
   "cell_type": "markdown",
   "id": "27365653",
   "metadata": {
    "papermill": {
     "duration": 0.141173,
     "end_time": "2022-01-11T18:39:46.219287",
     "exception": false,
     "start_time": "2022-01-11T18:39:46.078114",
     "status": "completed"
    },
    "tags": []
   },
   "source": [
    "#### This feature should be numeric. The \"?\" is a missing value."
   ]
  },
  {
   "cell_type": "code",
   "execution_count": 64,
   "id": "7e73cf5b",
   "metadata": {
    "execution": {
     "iopub.execute_input": "2022-01-11T18:39:46.540405Z",
     "iopub.status.busy": "2022-01-11T18:39:46.539676Z",
     "iopub.status.idle": "2022-01-11T18:39:46.549136Z",
     "shell.execute_reply": "2022-01-11T18:39:46.549863Z",
     "shell.execute_reply.started": "2022-01-11T18:33:23.644932Z"
    },
    "papermill": {
     "duration": 0.176232,
     "end_time": "2022-01-11T18:39:46.550083",
     "exception": false,
     "start_time": "2022-01-11T18:39:46.373851",
     "status": "completed"
    },
    "tags": []
   },
   "outputs": [
    {
     "name": "stdout",
     "output_type": "stream",
     "text": [
      "This feature contains 9.96% missing values\n"
     ]
    }
   ],
   "source": [
    "print(f\"This feature contains {(data[data['tempo'] == '?'].shape[0]/data.shape[0])*100:2.4}% missing values\")"
   ]
  },
  {
   "cell_type": "code",
   "execution_count": 65,
   "id": "dde23b8e",
   "metadata": {
    "execution": {
     "iopub.execute_input": "2022-01-11T18:39:46.847591Z",
     "iopub.status.busy": "2022-01-11T18:39:46.846909Z",
     "iopub.status.idle": "2022-01-11T18:39:46.871238Z",
     "shell.execute_reply": "2022-01-11T18:39:46.870651Z",
     "shell.execute_reply.started": "2022-01-11T18:33:23.668322Z"
    },
    "papermill": {
     "duration": 0.178579,
     "end_time": "2022-01-11T18:39:46.871488",
     "exception": false,
     "start_time": "2022-01-11T18:39:46.692909",
     "status": "completed"
    },
    "tags": []
   },
   "outputs": [],
   "source": [
    "# replace \"?\" with np.nan and correctly classify the feature\n",
    "data.loc[data['tempo'] == '?', 'tempo'] = np.nan\n",
    "data = data.astype({'tempo': np.float64})\n",
    "data[\"tempo\"] = np.around(data[\"tempo\"], decimals = 2)"
   ]
  },
  {
   "cell_type": "code",
   "execution_count": 66,
   "id": "d1f418c3",
   "metadata": {
    "execution": {
     "iopub.execute_input": "2022-01-11T18:39:47.511687Z",
     "iopub.status.busy": "2022-01-11T18:39:47.508891Z",
     "iopub.status.idle": "2022-01-11T18:39:47.816482Z",
     "shell.execute_reply": "2022-01-11T18:39:47.815941Z",
     "shell.execute_reply.started": "2022-01-11T18:33:23.754494Z"
    },
    "papermill": {
     "duration": 0.472313,
     "end_time": "2022-01-11T18:39:47.816639",
     "exception": false,
     "start_time": "2022-01-11T18:39:47.344326",
     "status": "completed"
    },
    "tags": []
   },
   "outputs": [
    {
     "data": {
      "image/png": "[encoded data removed]",
      "text/plain": [
       "<Figure size 1600x800 with 1 Axes>"
      ]
     },
     "metadata": {},
     "output_type": "display_data"
    }
   ],
   "source": [
    "plt.figure(figsize=(16,8))\n",
    "sns.boxplot(data=data, x='music_genre', y='tempo')\n",
    "plt.show()"
   ]
  },
  {
   "cell_type": "markdown",
   "id": "f485fc20",
   "metadata": {
    "papermill": {
     "duration": 0.143657,
     "end_time": "2022-01-11T18:39:48.104129",
     "exception": false,
     "start_time": "2022-01-11T18:39:47.960472",
     "status": "completed"
    },
    "tags": []
   },
   "source": [
    "### Sự khác biệt giữa các thể loại là không lớn nên sẽ bỏ tính năng này."
   ]
  },
  {
   "cell_type": "code",
   "execution_count": 67,
   "id": "cedd5a54",
   "metadata": {
    "execution": {
     "iopub.execute_input": "2022-01-11T18:39:48.399064Z",
     "iopub.status.busy": "2022-01-11T18:39:48.398395Z",
     "iopub.status.idle": "2022-01-11T18:39:48.400566Z",
     "shell.execute_reply": "2022-01-11T18:39:48.399953Z",
     "shell.execute_reply.started": "2022-01-11T18:33:24.129077Z"
    },
    "papermill": {
     "duration": 0.153938,
     "end_time": "2022-01-11T18:39:48.400701",
     "exception": false,
     "start_time": "2022-01-11T18:39:48.246763",
     "status": "completed"
    },
    "tags": []
   },
   "outputs": [],
   "source": [
    "data = data.drop(columns=['tempo'])"
   ]
  },
  {
   "cell_type": "markdown",
   "id": "107961d3",
   "metadata": {
    "papermill": {
     "duration": 0.142582,
     "end_time": "2022-01-11T18:39:48.686663",
     "exception": false,
     "start_time": "2022-01-11T18:39:48.544081",
     "status": "completed"
    },
    "tags": []
   },
   "source": [
    "## Obtained date"
   ]
  },
  {
   "cell_type": "code",
   "execution_count": 68,
   "id": "459673ef",
   "metadata": {
    "execution": {
     "iopub.execute_input": "2022-01-11T18:39:48.975572Z",
     "iopub.status.busy": "2022-01-11T18:39:48.974912Z",
     "iopub.status.idle": "2022-01-11T18:39:48.983978Z",
     "shell.execute_reply": "2022-01-11T18:39:48.984523Z",
     "shell.execute_reply.started": "2022-01-11T18:33:24.138300Z"
    },
    "papermill": {
     "duration": 0.15534,
     "end_time": "2022-01-11T18:39:48.984700",
     "exception": false,
     "start_time": "2022-01-11T18:39:48.829360",
     "status": "completed"
    },
    "tags": []
   },
   "outputs": [
    {
     "data": {
      "text/plain": [
       "array(['4-Apr', '3-Apr', '5-Apr', '1-Apr', '0/4'], dtype=object)"
      ]
     },
     "execution_count": 68,
     "metadata": {},
     "output_type": "execute_result"
    }
   ],
   "source": [
    "data['obtained_date'].unique()"
   ]
  },
  {
   "cell_type": "markdown",
   "id": "cd4f46b2",
   "metadata": {
    "papermill": {
     "duration": 0.144635,
     "end_time": "2022-01-11T18:39:49.603085",
     "exception": false,
     "start_time": "2022-01-11T18:39:49.458450",
     "status": "completed"
    },
    "tags": []
   },
   "source": [
    "#### Chỉ cung cấp 4 ngày mà dữ liệu được lấy nó không hữu ích vì vậy sẽ loại bỏ."
   ]
  },
  {
   "cell_type": "code",
   "execution_count": 69,
   "id": "6f55b691",
   "metadata": {
    "execution": {
     "iopub.execute_input": "2022-01-11T18:39:49.897174Z",
     "iopub.status.busy": "2022-01-11T18:39:49.896469Z",
     "iopub.status.idle": "2022-01-11T18:39:49.906478Z",
     "shell.execute_reply": "2022-01-11T18:39:49.906983Z",
     "shell.execute_reply.started": "2022-01-11T18:33:24.202112Z"
    },
    "papermill": {
     "duration": 0.156733,
     "end_time": "2022-01-11T18:39:49.907205",
     "exception": false,
     "start_time": "2022-01-11T18:39:49.750472",
     "status": "completed"
    },
    "tags": []
   },
   "outputs": [],
   "source": [
    "data = data.drop(columns=['obtained_date'])"
   ]
  },
  {
   "cell_type": "code",
   "execution_count": 70,
   "id": "2b39410e",
   "metadata": {},
   "outputs": [
    {
     "name": "stdout",
     "output_type": "stream",
     "text": [
      "<class 'pandas.core.frame.DataFrame'>\n",
      "RangeIndex: 50000 entries, 0 to 49999\n",
      "Data columns (total 10 columns):\n",
      " #   Column        Non-Null Count  Dtype  \n",
      "---  ------        --------------  -----  \n",
      " 0   popularity    50000 non-null  float64\n",
      " 1   acousticness  50000 non-null  float64\n",
      " 2   danceability  50000 non-null  float64\n",
      " 3   energy        50000 non-null  float64\n",
      " 4   key           50000 non-null  int64  \n",
      " 5   loudness      50000 non-null  float64\n",
      " 6   mode          50000 non-null  int64  \n",
      " 7   speechiness   50000 non-null  float64\n",
      " 8   valence       50000 non-null  float64\n",
      " 9   music_genre   50000 non-null  object \n",
      "dtypes: float64(7), int64(2), object(1)\n",
      "memory usage: 3.8+ MB\n"
     ]
    }
   ],
   "source": [
    "data.info()"
   ]
  },
  {
   "cell_type": "markdown",
   "id": "67fccaf8",
   "metadata": {
    "papermill": {
     "duration": 0.144985,
     "end_time": "2022-01-11T18:39:50.195774",
     "exception": false,
     "start_time": "2022-01-11T18:39:50.050789",
     "status": "completed"
    },
    "tags": []
   },
   "source": [
    "## Valence"
   ]
  },
  {
   "cell_type": "code",
   "execution_count": 71,
   "id": "bf905ef1",
   "metadata": {
    "execution": {
     "iopub.execute_input": "2022-01-11T18:39:50.497737Z",
     "iopub.status.busy": "2022-01-11T18:39:50.495203Z",
     "iopub.status.idle": "2022-01-11T18:39:50.533263Z",
     "shell.execute_reply": "2022-01-11T18:39:50.533724Z",
     "shell.execute_reply.started": "2022-01-11T18:33:24.216833Z"
    },
    "papermill": {
     "duration": 0.18828,
     "end_time": "2022-01-11T18:39:50.533902",
     "exception": false,
     "start_time": "2022-01-11T18:39:50.345622",
     "status": "completed"
    },
    "tags": []
   },
   "outputs": [
    {
     "data": {
      "text/html": [
       "<div>\n",
       "<style scoped>\n",
       "    .dataframe tbody tr th:only-of-type {\n",
       "        vertical-align: middle;\n",
       "    }\n",
       "\n",
       "    .dataframe tbody tr th {\n",
       "        vertical-align: top;\n",
       "    }\n",
       "\n",
       "    .dataframe thead th {\n",
       "        text-align: right;\n",
       "    }\n",
       "</style>\n",
       "<table border=\"1\" class=\"dataframe\">\n",
       "  <thead>\n",
       "    <tr style=\"text-align: right;\">\n",
       "      <th></th>\n",
       "      <th>count</th>\n",
       "      <th>mean</th>\n",
       "      <th>std</th>\n",
       "      <th>min</th>\n",
       "      <th>25%</th>\n",
       "      <th>50%</th>\n",
       "      <th>75%</th>\n",
       "      <th>max</th>\n",
       "    </tr>\n",
       "    <tr>\n",
       "      <th>music_genre</th>\n",
       "      <th></th>\n",
       "      <th></th>\n",
       "      <th></th>\n",
       "      <th></th>\n",
       "      <th></th>\n",
       "      <th></th>\n",
       "      <th></th>\n",
       "      <th></th>\n",
       "    </tr>\n",
       "  </thead>\n",
       "  <tbody>\n",
       "    <tr>\n",
       "      <th>Alternative</th>\n",
       "      <td>5000.0</td>\n",
       "      <td>0.447513</td>\n",
       "      <td>0.216445</td>\n",
       "      <td>0.0342</td>\n",
       "      <td>0.28300</td>\n",
       "      <td>0.4285</td>\n",
       "      <td>0.60000</td>\n",
       "      <td>0.983</td>\n",
       "    </tr>\n",
       "    <tr>\n",
       "      <th>Anime</th>\n",
       "      <td>5000.0</td>\n",
       "      <td>0.437670</td>\n",
       "      <td>0.248353</td>\n",
       "      <td>0.0000</td>\n",
       "      <td>0.23200</td>\n",
       "      <td>0.4390</td>\n",
       "      <td>0.63200</td>\n",
       "      <td>0.990</td>\n",
       "    </tr>\n",
       "    <tr>\n",
       "      <th>Blues</th>\n",
       "      <td>5000.0</td>\n",
       "      <td>0.580788</td>\n",
       "      <td>0.224741</td>\n",
       "      <td>0.0315</td>\n",
       "      <td>0.41000</td>\n",
       "      <td>0.5900</td>\n",
       "      <td>0.76000</td>\n",
       "      <td>0.985</td>\n",
       "    </tr>\n",
       "    <tr>\n",
       "      <th>Classical</th>\n",
       "      <td>5000.0</td>\n",
       "      <td>0.210523</td>\n",
       "      <td>0.197650</td>\n",
       "      <td>0.0000</td>\n",
       "      <td>0.05650</td>\n",
       "      <td>0.1400</td>\n",
       "      <td>0.30525</td>\n",
       "      <td>0.982</td>\n",
       "    </tr>\n",
       "    <tr>\n",
       "      <th>Country</th>\n",
       "      <td>5000.0</td>\n",
       "      <td>0.536732</td>\n",
       "      <td>0.221114</td>\n",
       "      <td>0.0396</td>\n",
       "      <td>0.36100</td>\n",
       "      <td>0.5270</td>\n",
       "      <td>0.71625</td>\n",
       "      <td>0.977</td>\n",
       "    </tr>\n",
       "    <tr>\n",
       "      <th>Electronic</th>\n",
       "      <td>5000.0</td>\n",
       "      <td>0.389884</td>\n",
       "      <td>0.239673</td>\n",
       "      <td>0.0205</td>\n",
       "      <td>0.18900</td>\n",
       "      <td>0.3585</td>\n",
       "      <td>0.55900</td>\n",
       "      <td>0.992</td>\n",
       "    </tr>\n",
       "    <tr>\n",
       "      <th>Hip-Hop</th>\n",
       "      <td>5000.0</td>\n",
       "      <td>0.474927</td>\n",
       "      <td>0.220622</td>\n",
       "      <td>0.0336</td>\n",
       "      <td>0.30300</td>\n",
       "      <td>0.4735</td>\n",
       "      <td>0.64300</td>\n",
       "      <td>0.979</td>\n",
       "    </tr>\n",
       "    <tr>\n",
       "      <th>Jazz</th>\n",
       "      <td>5000.0</td>\n",
       "      <td>0.509248</td>\n",
       "      <td>0.251076</td>\n",
       "      <td>0.0289</td>\n",
       "      <td>0.29675</td>\n",
       "      <td>0.5150</td>\n",
       "      <td>0.71100</td>\n",
       "      <td>0.985</td>\n",
       "    </tr>\n",
       "    <tr>\n",
       "      <th>Rap</th>\n",
       "      <td>5000.0</td>\n",
       "      <td>0.454999</td>\n",
       "      <td>0.213480</td>\n",
       "      <td>0.0336</td>\n",
       "      <td>0.28900</td>\n",
       "      <td>0.4460</td>\n",
       "      <td>0.61200</td>\n",
       "      <td>0.970</td>\n",
       "    </tr>\n",
       "    <tr>\n",
       "      <th>Rock</th>\n",
       "      <td>5000.0</td>\n",
       "      <td>0.520361</td>\n",
       "      <td>0.233627</td>\n",
       "      <td>0.0277</td>\n",
       "      <td>0.34000</td>\n",
       "      <td>0.5160</td>\n",
       "      <td>0.70300</td>\n",
       "      <td>0.985</td>\n",
       "    </tr>\n",
       "  </tbody>\n",
       "</table>\n",
       "</div>"
      ],
      "text/plain": [
       "              count      mean       std     min      25%     50%      75%  \\\n",
       "music_genre                                                                 \n",
       "Alternative  5000.0  0.447513  0.216445  0.0342  0.28300  0.4285  0.60000   \n",
       "Anime        5000.0  0.437670  0.248353  0.0000  0.23200  0.4390  0.63200   \n",
       "Blues        5000.0  0.580788  0.224741  0.0315  0.41000  0.5900  0.76000   \n",
       "Classical    5000.0  0.210523  0.197650  0.0000  0.05650  0.1400  0.30525   \n",
       "Country      5000.0  0.536732  0.221114  0.0396  0.36100  0.5270  0.71625   \n",
       "Electronic   5000.0  0.389884  0.239673  0.0205  0.18900  0.3585  0.55900   \n",
       "Hip-Hop      5000.0  0.474927  0.220622  0.0336  0.30300  0.4735  0.64300   \n",
       "Jazz         5000.0  0.509248  0.251076  0.0289  0.29675  0.5150  0.71100   \n",
       "Rap          5000.0  0.454999  0.213480  0.0336  0.28900  0.4460  0.61200   \n",
       "Rock         5000.0  0.520361  0.233627  0.0277  0.34000  0.5160  0.70300   \n",
       "\n",
       "               max  \n",
       "music_genre         \n",
       "Alternative  0.983  \n",
       "Anime        0.990  \n",
       "Blues        0.985  \n",
       "Classical    0.982  \n",
       "Country      0.977  \n",
       "Electronic   0.992  \n",
       "Hip-Hop      0.979  \n",
       "Jazz         0.985  \n",
       "Rap          0.970  \n",
       "Rock         0.985  "
      ]
     },
     "execution_count": 71,
     "metadata": {},
     "output_type": "execute_result"
    }
   ],
   "source": [
    "data.groupby('music_genre')['valence'].describe()"
   ]
  },
  {
   "cell_type": "code",
   "execution_count": 72,
   "id": "4d79a777",
   "metadata": {},
   "outputs": [
    {
     "data": {
      "text/plain": [
       "<Axes: xlabel='music_genre'>"
      ]
     },
     "execution_count": 72,
     "metadata": {},
     "output_type": "execute_result"
    },
    {
     "data": {
      "image/png": "[encoded data removed]",
      "text/plain": [
       "<Figure size 1500x1000 with 1 Axes>"
      ]
     },
     "metadata": {},
     "output_type": "display_data"
    }
   ],
   "source": [
    "df1=data.groupby([\"music_genre\"]).mean()\n",
    "df1[\"valence\"].plot(kind='bar', figsize=(15,10))"
   ]
  },
  {
   "cell_type": "markdown",
   "id": "6cbb2773",
   "metadata": {},
   "source": [
    "#### Một lần nữa, chỉ có nhạc cổ điển (classical) thực sự nổi bật so với phần còn lại."
   ]
  },
  {
   "cell_type": "markdown",
   "id": "6a3df04d",
   "metadata": {},
   "source": [
    "### music_genre"
   ]
  },
  {
   "cell_type": "markdown",
   "id": "13e278f3",
   "metadata": {},
   "source": [
    "#### Có những thể loại có các thông số tương tự nhau nên sẽ tiến hành gom nhóm những thể loại có chung thông số với nhau để tăng tỷ lệ chính xác"
   ]
  },
  {
   "cell_type": "code",
   "execution_count": 73,
   "id": "c1763c8b",
   "metadata": {},
   "outputs": [],
   "source": [
    "# Group some genres with the same parameters together\n",
    "data.music_genre = data.music_genre.replace('Rock', 'Rock, Alternative or Country')\n",
    "data.music_genre = data.music_genre.replace('Alternative', 'Rock, Alternative or Country')\n",
    "data.music_genre = data.music_genre.replace('Country', 'Rock, Alternative or Country')\n",
    "data.music_genre = data.music_genre.replace('Rap', 'Rap or Hip-Hop')\n",
    "data.music_genre = data.music_genre.replace('Hip-Hop', 'Rap or Hip-Hop')\n",
    "data.music_genre = data.music_genre.replace('Jazz', 'Jazz, Blues or Electronic')\n",
    "data.music_genre = data.music_genre.replace('Blues', 'Jazz, Blues or Electronic')\n",
    "data.music_genre = data.music_genre.replace('Electronic', 'Jazz, Blues or Electronic')"
   ]
  },
  {
   "cell_type": "code",
   "execution_count": 74,
   "id": "d69d96dd",
   "metadata": {},
   "outputs": [],
   "source": [
    "# # Group some genres with the same parameters together\n",
    "# data.music_genre = data.music_genre.replace('Rock', 'Rock, Alternative or Country')\n",
    "# data.music_genre = data.music_genre.replace('Alternative', 'Rock, Alternative or Country')\n",
    "# data.music_genre = data.music_genre.replace('Country', 'Rock, Alternative or Country')\n",
    "# data.music_genre = data.music_genre.replace('Rap', 'Rap  Hip-Hop')\n",
    "# data.music_genre = data.music_genre.replace('Hip-Hop', 'Rap and Hip-Hop')\n",
    "# data.music_genre = data.music_genre.replace('Jazz', 'Jazz, Blues')\n",
    "# data.music_genre = data.music_genre.replace('Blues', 'Jazz, Blues')"
   ]
  },
  {
   "cell_type": "code",
   "execution_count": 75,
   "id": "c851a815",
   "metadata": {},
   "outputs": [
    {
     "data": {
      "text/plain": [
       "Jazz, Blues or Electronic       15000\n",
       "Rock, Alternative or Country    15000\n",
       "Rap or Hip-Hop                  10000\n",
       "Anime                            5000\n",
       "Classical                        5000\n",
       "Name: music_genre, dtype: int64"
      ]
     },
     "execution_count": 75,
     "metadata": {},
     "output_type": "execute_result"
    }
   ],
   "source": [
    "data['music_genre'].value_counts()"
   ]
  },
  {
   "cell_type": "markdown",
   "id": "fdd5ef9a",
   "metadata": {
    "papermill": {
     "duration": 0.14455,
     "end_time": "2022-01-11T18:39:51.431689",
     "exception": false,
     "start_time": "2022-01-11T18:39:51.287139",
     "status": "completed"
    },
    "tags": []
   },
   "source": [
    "#### Một lần nữa, chỉ có nhạc cổ điển (classical) thực sự nổi bật so với phần còn lại."
   ]
  },
  {
   "cell_type": "markdown",
   "id": "32bdd709",
   "metadata": {
    "papermill": {
     "duration": 0.144183,
     "end_time": "2022-01-11T18:39:51.721220",
     "exception": false,
     "start_time": "2022-01-11T18:39:51.577037",
     "status": "completed"
    },
    "tags": []
   },
   "source": [
    "## EDA Summary:\n",
    "### Labels:\n",
    "Có 5 thể loại âm nhạc có khả năng như nhau (bộ dữ liệu cân bằng):\n",
    "1. Jazz, Blues or Electronic\n",
    "2. Rock, Alternative or Country\n",
    "3. Rap or Hip-Hop\n",
    "4. Classical\n",
    "5. Anime  \n",
    "### Features:\n",
    "**Các tính năng hữu ích:**\n",
    "1. popularity \n",
    "2. acousticness\n",
    "3. danceability \n",
    "4. energy\n",
    "5. key - một cột phân loại chứa 12 danh mục duy nhất đã được mã hóa bằng label encoder.\n",
    "6. loudness\n",
    "7. mode - một cột phân loại chỉ chứa 2 danh mục duy nhất đã được mã hóa bằng label encoder.\n",
    "8. speechiness   \n",
    "9. valence\n",
    "\n",
    "**Các tính năng không hữu ích đã bị xóa:**\n",
    "1. instance_id - only an index.\n",
    "2. obtained_date - chỉ chứa 4 ngày thu thập dữ liệu liên tiếp không có giá trị phân loại.\n",
    "3. instrumentalness - chứa 30% giá trị còn thiếu.\n",
    "4. artist_name and track_name - chứa nhiều giá trị duy nhất và một nhạc sĩ có thể sáng tác nhiều thể loại nên sẽ loại bỏ.\n",
    "\n",
    "**Đánh giá tổng quan:** \n",
    "- Có vẻ như hầu hết các thể loại có xu hướng phân phối rất giống nhau ở hầu hết các tính năng, khiến cho bất kỳ mô hình nào cũng khó phân biệt giữa chúng. \n",
    "- Ngoại lệ hiển nhiên là nhạc cổ điển, có nhiều đặc điểm phân bố rất khác nhau.\n",
    "- Thể loại Anime cũng cho thấy một số đặc điểm khác biệt, giống như Jazz, ở một mức độ thấp hơn nhiều. \n",
    "- Hip-Hop và Rap cực kỳ giống nhau về mọi đặc điểm, nhưng lại tách biệt với các thể loại còn lại ở một số đặc điểm. Chúng có thể dễ dàng được xác định là một thể loại chung.\n",
    "- Nói chung, các tính năng hiện tại khó có thể đưa ra dự đoán tuyệt vời cho tất cả các thể loại."
   ]
  },
  {
   "cell_type": "code",
   "execution_count": 76,
   "id": "93d75312",
   "metadata": {},
   "outputs": [],
   "source": [
    "data.to_csv(\"test_v4.csv\")"
   ]
  },
  {
   "cell_type": "code",
   "execution_count": 77,
   "id": "5c5c34fb",
   "metadata": {},
   "outputs": [
    {
     "data": {
      "text/html": [
       "<div>\n",
       "<style scoped>\n",
       "    .dataframe tbody tr th:only-of-type {\n",
       "        vertical-align: middle;\n",
       "    }\n",
       "\n",
       "    .dataframe tbody tr th {\n",
       "        vertical-align: top;\n",
       "    }\n",
       "\n",
       "    .dataframe thead th {\n",
       "        text-align: right;\n",
       "    }\n",
       "</style>\n",
       "<table border=\"1\" class=\"dataframe\">\n",
       "  <thead>\n",
       "    <tr style=\"text-align: right;\">\n",
       "      <th></th>\n",
       "      <th>Unnamed: 0</th>\n",
       "      <th>popularity</th>\n",
       "      <th>acousticness</th>\n",
       "      <th>danceability</th>\n",
       "      <th>energy</th>\n",
       "      <th>key</th>\n",
       "      <th>loudness</th>\n",
       "      <th>mode</th>\n",
       "      <th>speechiness</th>\n",
       "      <th>valence</th>\n",
       "      <th>music_genre</th>\n",
       "    </tr>\n",
       "  </thead>\n",
       "  <tbody>\n",
       "    <tr>\n",
       "      <th>0</th>\n",
       "      <td>0</td>\n",
       "      <td>27.0</td>\n",
       "      <td>0.00468</td>\n",
       "      <td>0.652</td>\n",
       "      <td>0.941</td>\n",
       "      <td>1</td>\n",
       "      <td>-5.201</td>\n",
       "      <td>1</td>\n",
       "      <td>0.0748</td>\n",
       "      <td>0.759</td>\n",
       "      <td>Jazz, Blues or Electronic</td>\n",
       "    </tr>\n",
       "    <tr>\n",
       "      <th>1</th>\n",
       "      <td>1</td>\n",
       "      <td>31.0</td>\n",
       "      <td>0.01270</td>\n",
       "      <td>0.622</td>\n",
       "      <td>0.890</td>\n",
       "      <td>5</td>\n",
       "      <td>-7.043</td>\n",
       "      <td>1</td>\n",
       "      <td>0.0300</td>\n",
       "      <td>0.531</td>\n",
       "      <td>Jazz, Blues or Electronic</td>\n",
       "    </tr>\n",
       "    <tr>\n",
       "      <th>2</th>\n",
       "      <td>2</td>\n",
       "      <td>28.0</td>\n",
       "      <td>0.00306</td>\n",
       "      <td>0.620</td>\n",
       "      <td>0.755</td>\n",
       "      <td>11</td>\n",
       "      <td>-4.617</td>\n",
       "      <td>0</td>\n",
       "      <td>0.0345</td>\n",
       "      <td>0.333</td>\n",
       "      <td>Jazz, Blues or Electronic</td>\n",
       "    </tr>\n",
       "    <tr>\n",
       "      <th>3</th>\n",
       "      <td>3</td>\n",
       "      <td>34.0</td>\n",
       "      <td>0.02540</td>\n",
       "      <td>0.774</td>\n",
       "      <td>0.700</td>\n",
       "      <td>4</td>\n",
       "      <td>-4.498</td>\n",
       "      <td>0</td>\n",
       "      <td>0.2390</td>\n",
       "      <td>0.270</td>\n",
       "      <td>Jazz, Blues or Electronic</td>\n",
       "    </tr>\n",
       "    <tr>\n",
       "      <th>4</th>\n",
       "      <td>4</td>\n",
       "      <td>32.0</td>\n",
       "      <td>0.00465</td>\n",
       "      <td>0.638</td>\n",
       "      <td>0.587</td>\n",
       "      <td>9</td>\n",
       "      <td>-6.266</td>\n",
       "      <td>0</td>\n",
       "      <td>0.0413</td>\n",
       "      <td>0.323</td>\n",
       "      <td>Jazz, Blues or Electronic</td>\n",
       "    </tr>\n",
       "    <tr>\n",
       "      <th>...</th>\n",
       "      <td>...</td>\n",
       "      <td>...</td>\n",
       "      <td>...</td>\n",
       "      <td>...</td>\n",
       "      <td>...</td>\n",
       "      <td>...</td>\n",
       "      <td>...</td>\n",
       "      <td>...</td>\n",
       "      <td>...</td>\n",
       "      <td>...</td>\n",
       "      <td>...</td>\n",
       "    </tr>\n",
       "    <tr>\n",
       "      <th>49995</th>\n",
       "      <td>49995</td>\n",
       "      <td>59.0</td>\n",
       "      <td>0.03340</td>\n",
       "      <td>0.913</td>\n",
       "      <td>0.574</td>\n",
       "      <td>4</td>\n",
       "      <td>-7.022</td>\n",
       "      <td>0</td>\n",
       "      <td>0.2980</td>\n",
       "      <td>0.330</td>\n",
       "      <td>Rap or Hip-Hop</td>\n",
       "    </tr>\n",
       "    <tr>\n",
       "      <th>49996</th>\n",
       "      <td>49996</td>\n",
       "      <td>72.0</td>\n",
       "      <td>0.15700</td>\n",
       "      <td>0.709</td>\n",
       "      <td>0.362</td>\n",
       "      <td>2</td>\n",
       "      <td>-9.814</td>\n",
       "      <td>0</td>\n",
       "      <td>0.0550</td>\n",
       "      <td>0.113</td>\n",
       "      <td>Rap or Hip-Hop</td>\n",
       "    </tr>\n",
       "    <tr>\n",
       "      <th>49997</th>\n",
       "      <td>49997</td>\n",
       "      <td>51.0</td>\n",
       "      <td>0.00597</td>\n",
       "      <td>0.693</td>\n",
       "      <td>0.763</td>\n",
       "      <td>5</td>\n",
       "      <td>-5.443</td>\n",
       "      <td>0</td>\n",
       "      <td>0.1460</td>\n",
       "      <td>0.395</td>\n",
       "      <td>Rap or Hip-Hop</td>\n",
       "    </tr>\n",
       "    <tr>\n",
       "      <th>49998</th>\n",
       "      <td>49998</td>\n",
       "      <td>65.0</td>\n",
       "      <td>0.08310</td>\n",
       "      <td>0.782</td>\n",
       "      <td>0.472</td>\n",
       "      <td>10</td>\n",
       "      <td>-5.016</td>\n",
       "      <td>1</td>\n",
       "      <td>0.0441</td>\n",
       "      <td>0.354</td>\n",
       "      <td>Rap or Hip-Hop</td>\n",
       "    </tr>\n",
       "    <tr>\n",
       "      <th>49999</th>\n",
       "      <td>49999</td>\n",
       "      <td>67.0</td>\n",
       "      <td>0.10200</td>\n",
       "      <td>0.862</td>\n",
       "      <td>0.642</td>\n",
       "      <td>9</td>\n",
       "      <td>-13.652</td>\n",
       "      <td>1</td>\n",
       "      <td>0.1010</td>\n",
       "      <td>0.765</td>\n",
       "      <td>Rap or Hip-Hop</td>\n",
       "    </tr>\n",
       "  </tbody>\n",
       "</table>\n",
       "<p>50000 rows × 11 columns</p>\n",
       "</div>"
      ],
      "text/plain": [
       "       Unnamed: 0  popularity  acousticness  danceability  energy  key  \\\n",
       "0               0        27.0       0.00468         0.652   0.941    1   \n",
       "1               1        31.0       0.01270         0.622   0.890    5   \n",
       "2               2        28.0       0.00306         0.620   0.755   11   \n",
       "3               3        34.0       0.02540         0.774   0.700    4   \n",
       "4               4        32.0       0.00465         0.638   0.587    9   \n",
       "...           ...         ...           ...           ...     ...  ...   \n",
       "49995       49995        59.0       0.03340         0.913   0.574    4   \n",
       "49996       49996        72.0       0.15700         0.709   0.362    2   \n",
       "49997       49997        51.0       0.00597         0.693   0.763    5   \n",
       "49998       49998        65.0       0.08310         0.782   0.472   10   \n",
       "49999       49999        67.0       0.10200         0.862   0.642    9   \n",
       "\n",
       "       loudness  mode  speechiness  valence                music_genre  \n",
       "0        -5.201     1       0.0748    0.759  Jazz, Blues or Electronic  \n",
       "1        -7.043     1       0.0300    0.531  Jazz, Blues or Electronic  \n",
       "2        -4.617     0       0.0345    0.333  Jazz, Blues or Electronic  \n",
       "3        -4.498     0       0.2390    0.270  Jazz, Blues or Electronic  \n",
       "4        -6.266     0       0.0413    0.323  Jazz, Blues or Electronic  \n",
       "...         ...   ...          ...      ...                        ...  \n",
       "49995    -7.022     0       0.2980    0.330             Rap or Hip-Hop  \n",
       "49996    -9.814     0       0.0550    0.113             Rap or Hip-Hop  \n",
       "49997    -5.443     0       0.1460    0.395             Rap or Hip-Hop  \n",
       "49998    -5.016     1       0.0441    0.354             Rap or Hip-Hop  \n",
       "49999   -13.652     1       0.1010    0.765             Rap or Hip-Hop  \n",
       "\n",
       "[50000 rows x 11 columns]"
      ]
     },
     "execution_count": 77,
     "metadata": {},
     "output_type": "execute_result"
    }
   ],
   "source": [
    "df = pd.read_csv('test_v4.csv')\n",
    "df"
   ]
  }
 ],
 "metadata": {
  "kernelspec": {
   "display_name": "Python 3.11.0 64-bit",
   "language": "python",
   "name": "python3"
  },
  "language_info": {
   "codemirror_mode": {
    "name": "ipython",
    "version": 3
   },
   "file_extension": ".py",
   "mimetype": "text/x-python",
   "name": "python",
   "nbconvert_exporter": "python",
   "pygments_lexer": "ipython3",
   "version": "3.11.2"
  },
  "papermill": {
   "default_parameters": {},
   "duration": 276.377875,
   "end_time": "2022-01-11T18:43:28.721792",
   "environment_variables": {},
   "exception": null,
   "input_path": "__notebook__.ipynb",
   "output_path": "__notebook__.ipynb",
   "parameters": {},
   "start_time": "2022-01-11T18:38:52.343917",
   "version": "2.3.3"
  },
  "vscode": {
   "interpreter": {
    "hash": "228ec1c77332413f421e77c28617d1df6074d6a46921cdaeb15ed9feeb460bfe"
   }
  }
 },
 "nbformat": 4,
 "nbformat_minor": 5
}
